{
 "cells": [
  {
   "cell_type": "code",
   "execution_count": 1,
   "metadata": {
    "collapsed": false
   },
   "outputs": [
    {
     "name": "stdout",
     "output_type": "stream",
     "text": [
      "3.14188\n"
     ]
    }
   ],
   "source": [
    "import findspark\n",
    "findspark.init()\n",
    "import pyspark\n",
    "import random\n",
    "sc = pyspark.SparkContext(appName=\"Pi\")\n",
    "num_samples = 100000000\n",
    "def inside(p):     \n",
    "  x, y = random.random(), random.random()\n",
    "  return x*x + y*y < 1\n",
    "count = sc.parallelize(range(0, num_samples)).filter(inside).count()\n",
    "pi = 4 * count / num_samples\n",
    "print(pi)\n",
    "sc.stop()"
   ]
  },
  {
   "cell_type": "code",
   "execution_count": 3,
   "metadata": {
    "collapsed": false
   },
   "outputs": [],
   "source": [
    "import findspark\n",
    "findspark.init()\n",
    "import pyspark\n",
    "import random\n",
    "sc = pyspark.SparkContext(appName=\"Pi\")\n",
    "\n",
    "crimedata = sc.textFile(\"hdfs://localhost:9000/datafiles/Crimes_-_2001_to_present.csv\")\n"
   ]
  },
  {
   "cell_type": "code",
   "execution_count": 31,
   "metadata": {
    "collapsed": false
   },
   "outputs": [
    {
     "name": "stdout",
     "output_type": "stream",
     "text": [
      "5862796\n"
     ]
    }
   ],
   "source": [
    "print(crimedata.count())"
   ]
  },
  {
   "cell_type": "code",
   "execution_count": 30,
   "metadata": {
    "collapsed": false
   },
   "outputs": [
    {
     "data": {
      "text/plain": [
       "'ID,Case Number,Date,Block,IUCR,Primary Type,Description,Location Description,Arrest,Domestic,Beat,District,Ward,Community Area,FBI Code,X Coordinate,Y Coordinate,Year,Updated On,Latitude,Longitude,Location'"
      ]
     },
     "execution_count": 30,
     "metadata": {},
     "output_type": "execute_result"
    }
   ],
   "source": [
    "crimedata.first()"
   ]
  },
  {
   "cell_type": "code",
   "execution_count": 39,
   "metadata": {
    "collapsed": false
   },
   "outputs": [],
   "source": [
    "def remove_header(itr_index, itr): return iter(list(itr)[1:]) if itr_index == 0 else itr\n",
    "noHeaderCrimedata = crimedata.mapPartitionsWithIndex(remove_header)\n",
    "\n"
   ]
  },
  {
   "cell_type": "code",
   "execution_count": 37,
   "metadata": {
    "collapsed": false
   },
   "outputs": [
    {
     "data": {
      "text/plain": [
       "5862795"
      ]
     },
     "execution_count": 37,
     "metadata": {},
     "output_type": "execute_result"
    }
   ],
   "source": [
    "noHeaderCrimedata.count()"
   ]
  },
  {
   "cell_type": "code",
   "execution_count": 40,
   "metadata": {
    "collapsed": false
   },
   "outputs": [
    {
     "data": {
      "text/plain": [
       "663712"
      ]
     },
     "execution_count": 40,
     "metadata": {},
     "output_type": "execute_result"
    }
   ],
   "source": [
    "narcoticsCrimes = noHeaderCrimedata.filter(lambda x: \"NARCOTICS\" in x)\n",
    "narcoticsCrimes.count()\n"
   ]
  },
  {
   "cell_type": "code",
   "execution_count": 41,
   "metadata": {
    "collapsed": false
   },
   "outputs": [
    {
     "data": {
      "text/plain": [
       "['10184515,HY372204,08/06/2015 11:55:00 PM,033XX W DIVERSEY AVE,2027,NARCOTICS,POSS: CRACK,STREET,true,false,1412,014,35,22,18,1153440,1918377,2015,08/13/2015 12:57:42 PM,41.931870591,-87.711546895,\"(41.931870591, -87.711546895)\"',\n",
       " '10184524,HY372200,08/06/2015 11:40:00 PM,002XX W 88TH ST,1811,NARCOTICS,POSS: CANNABIS 30GMS OR LESS,STREET,true,false,0634,006,21,49,18,1175866,1846548,2015,08/13/2015 12:57:42 PM,41.7342901,-87.631292466,\"(41.7342901, -87.631292466)\"',\n",
       " '10184554,HY372217,08/06/2015 11:38:00 PM,078XX S PAULINA ST,2028,NARCOTICS,POSS: SYNTHETIC DRUGS,STREET,true,false,0611,006,17,71,18,1166342,1852418,2015,08/13/2015 12:57:42 PM,41.750606117,-87.666017303,\"(41.750606117, -87.666017303)\"',\n",
       " '10184503,HY372179,08/06/2015 11:35:00 PM,019XX N MOZART ST,2022,NARCOTICS,POSS: COCAINE,STREET,true,false,1421,014,35,22,18,1157157,1912657,2015,08/13/2015 12:57:42 PM,41.916099694,-87.698043163,\"(41.916099694, -87.698043163)\"',\n",
       " '10184527,HY372190,08/06/2015 11:32:00 PM,015XX W HOWARD ST,1811,NARCOTICS,POSS: CANNABIS 30GMS OR LESS,STREET,true,false,2422,024,49,1,18,1164729,1950306,2015,08/13/2015 12:57:42 PM,42.01925275,-87.669151816,\"(42.01925275, -87.669151816)\"',\n",
       " '10184512,HY372194,08/06/2015 11:30:00 PM,054XX W NORTH AVE,1811,NARCOTICS,POSS: CANNABIS 30GMS OR LESS,VEHICLE NON-COMMERCIAL,true,false,2532,025,37,25,18,1140150,1910150,2015,08/13/2015 12:57:42 PM,41.909548902,-87.760588145,\"(41.909548902, -87.760588145)\"',\n",
       " '10184523,HY372175,08/06/2015 10:51:00 PM,038XX W NORTH AVE,1811,NARCOTICS,POSS: CANNABIS 30GMS OR LESS,SIDEWALK,true,false,2535,025,30,23,18,1150304,1910396,2015,08/13/2015 12:57:42 PM,41.910031837,-87.723279946,\"(41.910031837, -87.723279946)\"',\n",
       " '10184476,HY372146,08/06/2015 10:50:00 PM,0000X N KEELER AVE,1811,NARCOTICS,POSS: CANNABIS 30GMS OR LESS,STREET,true,false,1115,011,28,26,18,1148430,1899795,2015,08/13/2015 12:57:42 PM,41.880977936,-87.730437982,\"(41.880977936, -87.730437982)\"',\n",
       " '10184477,HY372136,08/06/2015 10:45:00 PM,053XX W CHICAGO AVE,1821,NARCOTICS,MANU/DEL:CANNABIS 10GM OR LESS,SIDEWALK,true,false,1524,015,37,25,18,1140456,1904773,2015,08/13/2015 12:57:42 PM,41.894788171,-87.759596124,\"(41.894788171, -87.759596124)\"',\n",
       " '10184468,HY372144,08/06/2015 10:45:00 PM,002XX E 108TH ST,2028,NARCOTICS,POSS: SYNTHETIC DRUGS,STREET,true,false,0513,005,9,49,18,1179863,1833448,2015,08/13/2015 12:57:42 PM,41.698251605,-87.617048656,\"(41.698251605, -87.617048656)\"',\n",
       " '10184465,HY372127,08/06/2015 10:28:00 PM,079XX S ASHLAND AVE,1811,NARCOTICS,POSS: CANNABIS 30GMS OR LESS,GAS STATION,true,false,0611,006,21,71,18,1167009,1852265,2015,08/13/2015 12:57:42 PM,41.750172042,-87.66357746,\"(41.750172042, -87.66357746)\"',\n",
       " '10184487,HY372141,08/06/2015 10:01:00 PM,059XX S MICHIGAN AVE,1812,NARCOTICS,POSS: CANNABIS MORE THAN 30GMS,APARTMENT,true,false,0232,002,20,40,18,1178136,1865583,2015,08/13/2015 12:57:42 PM,41.786473155,-87.622399953,\"(41.786473155, -87.622399953)\"',\n",
       " '10184488,HY372134,08/06/2015 09:56:00 PM,077XX S SANGAMON ST,2024,NARCOTICS,POSS: HEROIN(WHITE),APARTMENT,true,false,0621,006,17,71,18,1171365,1853218,2015,08/13/2015 12:57:42 PM,41.752693042,-87.647587307,\"(41.752693042, -87.647587307)\"',\n",
       " '10184422,HY372060,08/06/2015 09:30:00 PM,052XX N CANFIELD AVE,1811,NARCOTICS,POSS: CANNABIS 30GMS OR LESS,ALLEY,true,false,1613,016,41,10,18,1122611,1933632,2015,08/13/2015 12:57:42 PM,41.974289808,-87.824508239,\"(41.974289808, -87.824508239)\"',\n",
       " '10184429,HY372061,08/06/2015 09:30:00 PM,033XX W FLOURNOY ST,1811,NARCOTICS,POSS: CANNABIS 30GMS OR LESS,SIDEWALK,true,false,1134,011,24,27,18,1154319,1896798,2015,08/13/2015 12:57:42 PM,41.872638297,-87.70889391,\"(41.872638297, -87.70889391)\"',\n",
       " '10184427,HY372068,08/06/2015 09:18:00 PM,027XX W LE MOYNE ST,1811,NARCOTICS,POSS: CANNABIS 30GMS OR LESS,STREET,true,false,1423,014,26,24,18,1158086,1909904,2015,08/13/2015 12:57:42 PM,41.908526309,-87.694705371,\"(41.908526309, -87.694705371)\"',\n",
       " '10184388,HY372039,08/06/2015 09:15:00 PM,055XX N NORTHWEST HWY,1811,NARCOTICS,POSS: CANNABIS 30GMS OR LESS,ALLEY,true,false,1622,016,45,11,18,1134995,1936221,2015,08/13/2015 12:57:42 PM,41.981183382,-87.778906209,\"(41.981183382, -87.778906209)\"',\n",
       " '10184412,HY372034,08/06/2015 08:45:00 PM,028XX S AVERS AVE,1811,NARCOTICS,POSS: CANNABIS 30GMS OR LESS,SIDEWALK,true,false,1031,010,22,30,18,1151215,1884655,2015,08/13/2015 12:57:42 PM,41.839377846,-87.720608322,\"(41.839377846, -87.720608322)\"',\n",
       " '10184435,HY372066,08/06/2015 08:45:00 PM,046XX S HERMITAGE AVE,1811,NARCOTICS,POSS: CANNABIS 30GMS OR LESS,\"SCHOOL, PRIVATE, GROUNDS\",true,false,0924,009,20,61,18,1165413,1874130,2015,08/13/2015 12:57:42 PM,41.810206364,-87.668806745,\"(41.810206364, -87.668806745)\"',\n",
       " '10184509,HY372031,08/06/2015 08:30:00 PM,038XX W LEXINGTON ST,2024,NARCOTICS,POSS: HEROIN(WHITE),STREET,true,false,1133,011,24,26,18,1150832,1896381,2015,08/13/2015 12:57:42 PM,41.871562899,-87.721707266,\"(41.871562899, -87.721707266)\"']"
      ]
     },
     "execution_count": 41,
     "metadata": {},
     "output_type": "execute_result"
    }
   ],
   "source": [
    "narcoticsCrimes.take(20)"
   ]
  },
  {
   "cell_type": "code",
   "execution_count": 42,
   "metadata": {
    "collapsed": true
   },
   "outputs": [],
   "source": [
    "narcoticsCrimeRecords = narcoticsCrimes.map(lambda r : r.split(\",\"))"
   ]
  },
  {
   "cell_type": "code",
   "execution_count": 43,
   "metadata": {
    "collapsed": false
   },
   "outputs": [
    {
     "data": {
      "text/plain": [
       "['10184515',\n",
       " 'HY372204',\n",
       " '08/06/2015 11:55:00 PM',\n",
       " '033XX W DIVERSEY AVE',\n",
       " '2027',\n",
       " 'NARCOTICS',\n",
       " 'POSS: CRACK',\n",
       " 'STREET',\n",
       " 'true',\n",
       " 'false',\n",
       " '1412',\n",
       " '014',\n",
       " '35',\n",
       " '22',\n",
       " '18',\n",
       " '1153440',\n",
       " '1918377',\n",
       " '2015',\n",
       " '08/13/2015 12:57:42 PM',\n",
       " '41.931870591',\n",
       " '-87.711546895',\n",
       " '\"(41.931870591',\n",
       " ' -87.711546895)\"']"
      ]
     },
     "execution_count": 43,
     "metadata": {},
     "output_type": "execute_result"
    }
   ],
   "source": [
    "narcoticsCrimeRecords.first()"
   ]
  },
  {
   "cell_type": "code",
   "execution_count": 59,
   "metadata": {
    "collapsed": true
   },
   "outputs": [],
   "source": [
    "narcoticsCrimeTuples = narcoticsCrimes.map(lambda x:(x.split(\",\")[0], x.split(\",\")[1:]))"
   ]
  },
  {
   "cell_type": "code",
   "execution_count": 74,
   "metadata": {
    "collapsed": false
   },
   "outputs": [],
   "source": [
    "sorted = narcoticsCrimeTuples.sortByKey()"
   ]
  },
  {
   "cell_type": "code",
   "execution_count": 75,
   "metadata": {
    "collapsed": false
   },
   "outputs": [
    {
     "data": {
      "text/plain": [
       "('10000014',\n",
       " ['HY189846',\n",
       "  '03/18/2015 05:52:00 PM',\n",
       "  '107XX S EGGLESTON AVE',\n",
       "  '1822',\n",
       "  'NARCOTICS',\n",
       "  'MANU/DEL:CANNABIS OVER 10 GMS',\n",
       "  'RESIDENCE',\n",
       "  'true',\n",
       "  'false',\n",
       "  '2233',\n",
       "  '022',\n",
       "  '34',\n",
       "  '49',\n",
       "  '18',\n",
       "  '1175162',\n",
       "  '1833372',\n",
       "  '2015',\n",
       "  '03/25/2015 12:42:30 PM',\n",
       "  '41.698149046',\n",
       "  '-87.634263523',\n",
       "  '\"(41.698149046',\n",
       "  ' -87.634263523)\"'])"
      ]
     },
     "execution_count": 75,
     "metadata": {},
     "output_type": "execute_result"
    }
   ],
   "source": [
    "sorted.first()"
   ]
  },
  {
   "cell_type": "code",
   "execution_count": 76,
   "metadata": {
    "collapsed": false
   },
   "outputs": [
    {
     "data": {
      "text/plain": [
       "('10184515',\n",
       " ['HY372204',\n",
       "  '08/06/2015 11:55:00 PM',\n",
       "  '033XX W DIVERSEY AVE',\n",
       "  '2027',\n",
       "  'NARCOTICS',\n",
       "  'POSS: CRACK',\n",
       "  'STREET',\n",
       "  'true',\n",
       "  'false',\n",
       "  '1412',\n",
       "  '014',\n",
       "  '35',\n",
       "  '22',\n",
       "  '18',\n",
       "  '1153440',\n",
       "  '1918377',\n",
       "  '2015',\n",
       "  '08/13/2015 12:57:42 PM',\n",
       "  '41.931870591',\n",
       "  '-87.711546895',\n",
       "  '\"(41.931870591',\n",
       "  ' -87.711546895)\"'])"
      ]
     },
     "execution_count": 76,
     "metadata": {},
     "output_type": "execute_result"
    }
   ],
   "source": [
    "narcoticsCrimeTuples.first()"
   ]
  },
  {
   "cell_type": "code",
   "execution_count": null,
   "metadata": {
    "collapsed": true
   },
   "outputs": [],
   "source": []
  }
 ],
 "metadata": {
  "kernelspec": {
   "display_name": "Python 3",
   "language": "python",
   "name": "python3"
  },
  "language_info": {
   "codemirror_mode": {
    "name": "ipython",
    "version": 3
   },
   "file_extension": ".py",
   "mimetype": "text/x-python",
   "name": "python",
   "nbconvert_exporter": "python",
   "pygments_lexer": "ipython3",
   "version": "3.6.0"
  }
 },
 "nbformat": 4,
 "nbformat_minor": 2
}
