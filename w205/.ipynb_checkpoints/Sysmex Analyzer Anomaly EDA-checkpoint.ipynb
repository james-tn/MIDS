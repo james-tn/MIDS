{
 "cells": [
  {
   "cell_type": "markdown",
   "metadata": {},
   "source": [
    "#  This document is the exploratory data analysis for problems of anomaly with some of Sysmex's analyzers"
   ]
  },
  {
   "cell_type": "markdown",
   "metadata": {},
   "source": [
    "## Part 1: Exploratory Data Analysis"
   ]
  },
  {
   "cell_type": "markdown",
   "metadata": {},
   "source": [
    "This part is to explore data, transform and understand the data provided by Sysmex"
   ]
  },
  {
   "cell_type": "code",
   "execution_count": 1,
   "metadata": {
    "collapsed": true
   },
   "outputs": [],
   "source": [
    "from __future__ import division, print_function, unicode_literals\n",
    "\n",
    "# Common imports\n",
    "import numpy as np\n",
    "import numpy.random as rnd\n",
    "import os\n",
    "import tensorflow as tf\n",
    "import pandas as pd\n",
    "\n",
    "\n",
    "# to make this notebook's output stable across runs\n",
    "rnd.seed(42)\n",
    "\n",
    "# To plot pretty figures\n",
    "%matplotlib inline\n",
    "import matplotlib\n",
    "import matplotlib.pyplot as plt\n",
    "plt.rcParams['axes.labelsize'] = 14\n",
    "plt.rcParams['xtick.labelsize'] = 12\n",
    "plt.rcParams['ytick.labelsize'] = 12\n",
    "\n",
    "# Where to save the figures\n",
    "PROJECT_ROOT_DIR = \".\"\n",
    "CHAPTER_ID = \"rnn\"\n",
    "\n",
    "def save_fig(fig_id, tight_layout=True):\n",
    "    path = os.path.join(PROJECT_ROOT_DIR, \"images\", CHAPTER_ID, fig_id + \".png\")\n",
    "    print(\"Saving figure\", fig_id)\n",
    "    if tight_layout:\n",
    "        plt.tight_layout()\n",
    "    plt.savefig(path, format='png', dpi=300)"
   ]
  },
  {
   "cell_type": "code",
   "execution_count": 2,
   "metadata": {
    "collapsed": false
   },
   "outputs": [],
   "source": [
    "qc_data = pd.read_csv('~/downloads/Specific QC Lot Number Results.csv', header =None)\n",
    "qc_data.columns =['product_id', 'qc_lot', 'time', 'w-x', 'w-y', 'w-z']\n",
    "machine_data = pd.read_excel('~/downloads/Reference Set A Result Set.xlsx')\n"
   ]
  },
  {
   "cell_type": "code",
   "execution_count": 3,
   "metadata": {
    "collapsed": false
   },
   "outputs": [],
   "source": [
    "machine_data.columns=['Prod_ID', 'Upgrade_Date', 'IPU_Ver', 'Ser_No', 'Model_ID']\n",
    "qc_data.columns =['Prod_ID', 'QC_Lot', 'QC_Time', 'W-X', 'W-Y', 'W-Z']\n",
    "\n",
    "\n",
    "\n"
   ]
  },
  {
   "cell_type": "markdown",
   "metadata": {},
   "source": []
  },
  {
   "cell_type": "code",
   "execution_count": 4,
   "metadata": {
    "collapsed": false
   },
   "outputs": [
    {
     "name": "stdout",
     "output_type": "stream",
     "text": [
      "number of products in machine data:                            3,376\n",
      "number of records in machine data:                             3,468\n",
      "number of products in QC data:                                 3,807\n",
      "number of records in QC data:                              2,435,412\n",
      "number of records in QC data with zero W-X data               18,127\n",
      "number of records in QC data with zero W-Y data               18,078\n",
      "number of records in QC data with zero W-Z data               18,090\n",
      "number of records in QC data with zero W-Z, W-Y, W-Z data     18,071\n"
     ]
    }
   ],
   "source": [
    "print('number of products in machine data: {:32,d}'.format(len(np.unique(machine_data['Prod_ID']))))\n",
    "print('number of records in machine data:  {:32,d}'.format( len((machine_data['Prod_ID']))))\n",
    "print('number of products in QC data:      {:32,d}'.format( len(np.unique(qc_data['Prod_ID']))))\n",
    "print('number of records in QC data:       {:32,d}'.format( len((qc_data['Prod_ID']))))\n",
    "\n",
    "print('number of records in QC data with zero W-X data {:20,d}'.format( np.sum((qc_data['W-X']==0))))\n",
    "print('number of records in QC data with zero W-Y data {:20,d}'.format(  np.sum((qc_data['W-Y']==0))))\n",
    "print('number of records in QC data with zero W-Z data {:20,d}'.format(  np.sum((qc_data['W-Z']==0))))\n",
    "\n",
    "print('number of records in QC data with zero W-Z, W-Y, W-Z data {:10,d}'.format(np.sum((qc_data['W-X']==0)&(qc_data['W-Y']==0)&(qc_data['W-Z']==0))))"
   ]
  },
  {
   "cell_type": "markdown",
   "metadata": {},
   "source": [
    "## Clean up data and create a joined dataset\n",
    "In this step, we clean out records where W-X, W-Y, W-Z are all zeros. Also, we temporarily remove historical of software upgrade for each product ID just to keep one record for one machine with the latest software version then merge with QC data to create consolidated machine_qc dataset for analysis purpose"
   ]
  },
  {
   "cell_type": "code",
   "execution_count": 5,
   "metadata": {
    "collapsed": false
   },
   "outputs": [
    {
     "name": "stdout",
     "output_type": "stream",
     "text": [
      "number of records for clean QC data:                              2,417,282\n",
      "number of records for unique machine data:                            3,376\n",
      "number of records in consol data set                              2,417,282\n"
     ]
    },
    {
     "name": "stderr",
     "output_type": "stream",
     "text": [
      "/Users/giang/anaconda3/lib/python3.6/site-packages/ipykernel/__main__.py:11: SettingWithCopyWarning: \n",
      "A value is trying to be set on a copy of a slice from a DataFrame.\n",
      "Try using .loc[row_indexer,col_indexer] = value instead\n",
      "\n",
      "See the caveats in the documentation: http://pandas.pydata.org/pandas-docs/stable/indexing.html#indexing-view-versus-copy\n",
      "/Users/giang/anaconda3/lib/python3.6/site-packages/ipykernel/__main__.py:13: SettingWithCopyWarning: \n",
      "A value is trying to be set on a copy of a slice from a DataFrame.\n",
      "Try using .loc[row_indexer,col_indexer] = value instead\n",
      "\n",
      "See the caveats in the documentation: http://pandas.pydata.org/pandas-docs/stable/indexing.html#indexing-view-versus-copy\n"
     ]
    }
   ],
   "source": [
    "clean_qc_data = qc_data[((qc_data['W-X']!=0)&(qc_data['W-Y']!=0)&(qc_data['W-Z']!=0))]\n",
    "machine_data = machine_data.sort_values(by =['Prod_ID', 'Upgrade_Date'], ascending = [True, True])\n",
    "\n",
    "\n",
    "\n",
    "unique_machine_data=machine_data.drop_duplicates(subset='Prod_ID', keep ='first')\n",
    "qc_machine_data = pd.merge(clean_qc_data, unique_machine_data, how ='left')\n",
    "\n",
    "\n",
    "\n",
    "clean_qc_data['Prod_ID'] = clean_qc_data['Prod_ID'].astype(str)\n",
    "\n",
    "clean_qc_data['QC_Time'] = pd.to_datetime(clean_qc_data['QC_Time'])\n",
    "\n",
    "machine_data['Prod_ID'] = machine_data['Prod_ID'].astype(str)\n",
    "\n",
    "machine_data['Upgrade_Date'] = pd.to_datetime(machine_data['Upgrade_Date'])\n",
    "\n",
    "\n",
    "print('number of records for clean QC data:       {:32,d}'.format(len(clean_qc_data['Prod_ID'])))\n",
    "print('number of records for unique machine data: {:32,d}'.format(len(unique_machine_data['Prod_ID'])))\n",
    "print('number of records in consol data set       {:32,d}'.format(len(qc_machine_data['Prod_ID'])))"
   ]
  },
  {
   "cell_type": "markdown",
   "metadata": {},
   "source": [
    "There're records with null values due to missing master machine records"
   ]
  },
  {
   "cell_type": "code",
   "execution_count": 10,
   "metadata": {
    "collapsed": false
   },
   "outputs": [
    {
     "data": {
      "text/plain": [
       "Prod_ID         0\n",
       "QC_Lot          0\n",
       "QC_Time         0\n",
       "W-X             0\n",
       "W-Y             0\n",
       "W-Z             0\n",
       "Upgrade_Date    0\n",
       "IPU_Ver         0\n",
       "Ser_No          0\n",
       "Model_ID        0\n",
       "dtype: int64"
      ]
     },
     "execution_count": 10,
     "metadata": {},
     "output_type": "execute_result"
    }
   ],
   "source": [
    "np.sum(qc_machine_data.isnull())"
   ]
  },
  {
   "cell_type": "code",
   "execution_count": 9,
   "metadata": {
    "collapsed": false
   },
   "outputs": [],
   "source": [
    "qc_machine_data =qc_machine_data.dropna()"
   ]
  },
  {
   "cell_type": "code",
   "execution_count": null,
   "metadata": {
    "collapsed": true
   },
   "outputs": [],
   "source": [
    "t = pd.get_dummies(qc_machine_data)"
   ]
  },
  {
   "cell_type": "code",
   "execution_count": null,
   "metadata": {
    "collapsed": false,
    "scrolled": true
   },
   "outputs": [],
   "source": [
    "## Function to return a list of products that has more than one IPU versions\n",
    "# def get_multi_IPU():\n",
    "#     multi_ipu_machine = pd.DataFrame(columns = machine_data.columns)\n",
    "#     Unique_Prod_ID = np.unique(machine_data.Prod_ID)\n",
    "#     for prod_id in Unique_Prod_ID:\n",
    "#         k = machine_data[machine_data.Prod_ID ==prod_id]\n",
    "#         if k.shape[0]>1:\n",
    "#             multi_ipu_machine = multi_ipu_machine.append(k)\n",
    "#     multi_ipu_machine.sort_values(['Prod_ID', 'Upgrade_Date'], ascending = [False, False])\n",
    "#     return multi_ipu_machine\n",
    "\n",
    "def get_IPU_Ver(prod_id, tran_date):\n",
    "    machine_mini_list = machine_data[machine_data['Prod_ID'] == prod_id]\n",
    "    t = machine_mini_list.shape[0]\n",
    "    if t ==0: return None\n",
    "    k=0\n",
    "#     print(machine_mini_list.shape)\n",
    "#     print('hello')\n",
    "    for i in range(t):\n",
    "#         print('before print date')\n",
    "#         print('date is', machine_mini_list.values[i,1])\n",
    "        if machine_mini_list.Upgrade_Date.iloc[i] < tran_date: k=i\n",
    "    \n",
    "    return machine_mini_list.IPU_Ver.iloc[k]\n",
    "\n",
    "#get_IPU_Ver('125862',pd.to_datetime('2017-01-19'))\n",
    "qc_machine_data.head()\n",
    "\n",
    "\n",
    "IPU_Ver =[]\n",
    "for i in range(qc_machine_data.shape[0]):\n",
    "    prod_id = qc_machine_data['Prod_ID'].iloc[i]\n",
    "    tran_date = qc_machine_data.QC_Time.iloc[i] \n",
    "    IPU_Ver.append(get_IPU_Ver(prod_id, tran_date))\n",
    "\n",
    "qc_machine_data['IPU_Ver'] = IPU_Ver\n",
    "    \n",
    "# print(prod_id)"
   ]
  },
  {
   "cell_type": "code",
   "execution_count": 245,
   "metadata": {
    "collapsed": false
   },
   "outputs": [
    {
     "data": {
      "text/plain": [
       "168555"
      ]
     },
     "execution_count": 245,
     "metadata": {},
     "output_type": "execute_result"
    }
   ],
   "source": []
  },
  {
   "cell_type": "code",
   "execution_count": null,
   "metadata": {
    "collapsed": true
   },
   "outputs": [],
   "source": [
    "qc_machine_data.describe(include =[np.number])"
   ]
  },
  {
   "cell_type": "code",
   "execution_count": 8,
   "metadata": {
    "collapsed": false
   },
   "outputs": [
    {
     "data": {
      "text/html": [
       "<div>\n",
       "<table border=\"1\" class=\"dataframe\">\n",
       "  <thead>\n",
       "    <tr style=\"text-align: right;\">\n",
       "      <th></th>\n",
       "      <th>Prod_ID</th>\n",
       "      <th>QC_Lot</th>\n",
       "      <th>IPU_Ver</th>\n",
       "      <th>Ser_No</th>\n",
       "      <th>Model_ID</th>\n",
       "    </tr>\n",
       "  </thead>\n",
       "  <tbody>\n",
       "    <tr>\n",
       "      <th>count</th>\n",
       "      <td>2417282</td>\n",
       "      <td>2417282</td>\n",
       "      <td>2199325</td>\n",
       "      <td>2199325</td>\n",
       "      <td>2199325</td>\n",
       "    </tr>\n",
       "    <tr>\n",
       "      <th>unique</th>\n",
       "      <td>3774</td>\n",
       "      <td>23</td>\n",
       "      <td>10</td>\n",
       "      <td>3319</td>\n",
       "      <td>4</td>\n",
       "    </tr>\n",
       "    <tr>\n",
       "      <th>top</th>\n",
       "      <td>155786</td>\n",
       "      <td>QC-70371102</td>\n",
       "      <td>00-16 (Build 7)</td>\n",
       "      <td>21709</td>\n",
       "      <td>XN-10</td>\n",
       "    </tr>\n",
       "    <tr>\n",
       "      <th>freq</th>\n",
       "      <td>2148</td>\n",
       "      <td>209741</td>\n",
       "      <td>1904680</td>\n",
       "      <td>2148</td>\n",
       "      <td>2119867</td>\n",
       "    </tr>\n",
       "  </tbody>\n",
       "</table>\n",
       "</div>"
      ],
      "text/plain": [
       "        Prod_ID       QC_Lot          IPU_Ver   Ser_No Model_ID\n",
       "count   2417282      2417282          2199325  2199325  2199325\n",
       "unique     3774           23               10     3319        4\n",
       "top      155786  QC-70371102  00-16 (Build 7)    21709    XN-10\n",
       "freq       2148       209741          1904680     2148  2119867"
      ]
     },
     "execution_count": 8,
     "metadata": {},
     "output_type": "execute_result"
    }
   ],
   "source": [
    "qc_machine_data.describe(include =['O'])"
   ]
  },
  {
   "cell_type": "code",
   "execution_count": 152,
   "metadata": {
    "collapsed": false
   },
   "outputs": [
    {
     "data": {
      "text/html": [
       "<div>\n",
       "<table border=\"1\" class=\"dataframe\">\n",
       "  <thead>\n",
       "    <tr style=\"text-align: right;\">\n",
       "      <th></th>\n",
       "      <th>Upgrade_Date</th>\n",
       "      <th>QC_Time</th>\n",
       "    </tr>\n",
       "  </thead>\n",
       "  <tbody>\n",
       "    <tr>\n",
       "      <th>count</th>\n",
       "      <td>2199325</td>\n",
       "      <td>2199325</td>\n",
       "    </tr>\n",
       "    <tr>\n",
       "      <th>unique</th>\n",
       "      <td>3303</td>\n",
       "      <td>1851490</td>\n",
       "    </tr>\n",
       "    <tr>\n",
       "      <th>top</th>\n",
       "      <td>2017-05-19 04:00:57.837000</td>\n",
       "      <td>2017-05-18 07:32:35</td>\n",
       "    </tr>\n",
       "    <tr>\n",
       "      <th>freq</th>\n",
       "      <td>3310</td>\n",
       "      <td>8</td>\n",
       "    </tr>\n",
       "    <tr>\n",
       "      <th>first</th>\n",
       "      <td>2016-11-25 14:33:00.117000</td>\n",
       "      <td>2017-01-06 10:36:47</td>\n",
       "    </tr>\n",
       "    <tr>\n",
       "      <th>last</th>\n",
       "      <td>2017-05-24 14:04:56.943000</td>\n",
       "      <td>2017-05-31 08:28:32</td>\n",
       "    </tr>\n",
       "  </tbody>\n",
       "</table>\n",
       "</div>"
      ],
      "text/plain": [
       "                      Upgrade_Date              QC_Time\n",
       "count                      2199325              2199325\n",
       "unique                        3303              1851490\n",
       "top     2017-05-19 04:00:57.837000  2017-05-18 07:32:35\n",
       "freq                          3310                    8\n",
       "first   2016-11-25 14:33:00.117000  2017-01-06 10:36:47\n",
       "last    2017-05-24 14:04:56.943000  2017-05-31 08:28:32"
      ]
     },
     "execution_count": 152,
     "metadata": {},
     "output_type": "execute_result"
    }
   ],
   "source": [
    "qc_machine_data[['Upgrade_Date', 'QC_Time']].dropna().describe()"
   ]
  },
  {
   "cell_type": "code",
   "execution_count": 109,
   "metadata": {
    "collapsed": false
   },
   "outputs": [
    {
     "data": {
      "text/plain": [
       "00-16 (Build 7)      1904680\n",
       "00-19D (Build 13)     169575\n",
       "00-19C (Build 1)       35064\n",
       "00-17A (Build 1)       34980\n",
       "00-18 (Build 4)        18534\n",
       "00-19D (Build 12)      15193\n",
       "00-19D (Build 9)        9379\n",
       "00-19 (Build 9)         7757\n",
       "00-15 (Build 5)         4116\n",
       "00-20 (Build 8)           47\n",
       "Name: IPU_Ver, dtype: int64"
      ]
     },
     "execution_count": 109,
     "metadata": {},
     "output_type": "execute_result"
    }
   ],
   "source": [
    "qc_machine_data['IPU_Ver'].value_counts()"
   ]
  },
  {
   "cell_type": "code",
   "execution_count": 81,
   "metadata": {
    "collapsed": false
   },
   "outputs": [
    {
     "name": "stdout",
     "output_type": "stream",
     "text": [
      "column Prod_ID data type object\n",
      "column QC_Lot data type object\n",
      "column QC_Time data type datetime64[ns]\n",
      "column W-X data type int64\n",
      "column W-Y data type int64\n",
      "column W-Z data type int64\n",
      "column Upgrade_Date data type datetime64[ns]\n",
      "column IPU_Ver data type object\n",
      "column Ser_No data type object\n",
      "column Model_ID data type object\n"
     ]
    }
   ],
   "source": [
    "for col in qc_machine_data.columns:\n",
    "    print('column {:} data type {:}'.format(col, qc_machine_data[col].dtype))"
   ]
  },
  {
   "cell_type": "code",
   "execution_count": 9,
   "metadata": {
    "collapsed": false
   },
   "outputs": [
    {
     "data": {
      "text/html": [
       "<div>\n",
       "<table border=\"1\" class=\"dataframe\">\n",
       "  <thead>\n",
       "    <tr style=\"text-align: right;\">\n",
       "      <th></th>\n",
       "      <th>count</th>\n",
       "      <th>unique</th>\n",
       "      <th>top</th>\n",
       "      <th>freq</th>\n",
       "    </tr>\n",
       "    <tr>\n",
       "      <th>IPU_Ver</th>\n",
       "      <th></th>\n",
       "      <th></th>\n",
       "      <th></th>\n",
       "      <th></th>\n",
       "    </tr>\n",
       "  </thead>\n",
       "  <tbody>\n",
       "    <tr>\n",
       "      <th>00-15 (Build 5)</th>\n",
       "      <td>4116</td>\n",
       "      <td>7</td>\n",
       "      <td>148431</td>\n",
       "      <td>1128</td>\n",
       "    </tr>\n",
       "    <tr>\n",
       "      <th>00-16 (Build 7)</th>\n",
       "      <td>1904680</td>\n",
       "      <td>2682</td>\n",
       "      <td>155786</td>\n",
       "      <td>2148</td>\n",
       "    </tr>\n",
       "    <tr>\n",
       "      <th>00-17A (Build 1)</th>\n",
       "      <td>34980</td>\n",
       "      <td>81</td>\n",
       "      <td>139687</td>\n",
       "      <td>1161</td>\n",
       "    </tr>\n",
       "    <tr>\n",
       "      <th>00-18 (Build 4)</th>\n",
       "      <td>18534</td>\n",
       "      <td>30</td>\n",
       "      <td>150007</td>\n",
       "      <td>1030</td>\n",
       "    </tr>\n",
       "    <tr>\n",
       "      <th>00-19 (Build 9)</th>\n",
       "      <td>7757</td>\n",
       "      <td>11</td>\n",
       "      <td>127576</td>\n",
       "      <td>1553</td>\n",
       "    </tr>\n",
       "    <tr>\n",
       "      <th>00-19C (Build 1)</th>\n",
       "      <td>35064</td>\n",
       "      <td>42</td>\n",
       "      <td>137876</td>\n",
       "      <td>1577</td>\n",
       "    </tr>\n",
       "    <tr>\n",
       "      <th>00-19D (Build 12)</th>\n",
       "      <td>15193</td>\n",
       "      <td>32</td>\n",
       "      <td>156630</td>\n",
       "      <td>612</td>\n",
       "    </tr>\n",
       "    <tr>\n",
       "      <th>00-19D (Build 13)</th>\n",
       "      <td>169575</td>\n",
       "      <td>427</td>\n",
       "      <td>143540</td>\n",
       "      <td>1634</td>\n",
       "    </tr>\n",
       "    <tr>\n",
       "      <th>00-19D (Build 9)</th>\n",
       "      <td>9379</td>\n",
       "      <td>8</td>\n",
       "      <td>160464</td>\n",
       "      <td>1300</td>\n",
       "    </tr>\n",
       "    <tr>\n",
       "      <th>00-20 (Build 8)</th>\n",
       "      <td>47</td>\n",
       "      <td>1</td>\n",
       "      <td>128712</td>\n",
       "      <td>47</td>\n",
       "    </tr>\n",
       "  </tbody>\n",
       "</table>\n",
       "</div>"
      ],
      "text/plain": [
       "                     count unique     top  freq\n",
       "IPU_Ver                                        \n",
       "00-15 (Build 5)       4116      7  148431  1128\n",
       "00-16 (Build 7)    1904680   2682  155786  2148\n",
       "00-17A (Build 1)     34980     81  139687  1161\n",
       "00-18 (Build 4)      18534     30  150007  1030\n",
       "00-19 (Build 9)       7757     11  127576  1553\n",
       "00-19C (Build 1)     35064     42  137876  1577\n",
       "00-19D (Build 12)    15193     32  156630   612\n",
       "00-19D (Build 13)   169575    427  143540  1634\n",
       "00-19D (Build 9)      9379      8  160464  1300\n",
       "00-20 (Build 8)         47      1  128712    47"
      ]
     },
     "execution_count": 9,
     "metadata": {},
     "output_type": "execute_result"
    }
   ],
   "source": [
    "qc_machine_data.groupby('IPU_Ver')['Prod_ID'].describe().unstack()"
   ]
  },
  {
   "cell_type": "code",
   "execution_count": 75,
   "metadata": {
    "collapsed": false
   },
   "outputs": [
    {
     "data": {
      "text/html": [
       "<div>\n",
       "<table border=\"1\" class=\"dataframe\">\n",
       "  <thead>\n",
       "    <tr style=\"text-align: right;\">\n",
       "      <th></th>\n",
       "      <th></th>\n",
       "      <th></th>\n",
       "      <th>Prod_ID</th>\n",
       "      <th>Model_ID</th>\n",
       "    </tr>\n",
       "    <tr>\n",
       "      <th>IPU_Ver</th>\n",
       "      <th>QC_Lot</th>\n",
       "      <th></th>\n",
       "      <th></th>\n",
       "      <th></th>\n",
       "    </tr>\n",
       "  </thead>\n",
       "  <tbody>\n",
       "    <tr>\n",
       "      <th rowspan=\"22\" valign=\"top\">00-15 (Build 5)</th>\n",
       "      <th>QC-70371101</th>\n",
       "      <th>0</th>\n",
       "      <td>2</td>\n",
       "      <td>1</td>\n",
       "    </tr>\n",
       "    <tr>\n",
       "      <th>QC-70371102</th>\n",
       "      <th>0</th>\n",
       "      <td>2</td>\n",
       "      <td>1</td>\n",
       "    </tr>\n",
       "    <tr>\n",
       "      <th>QC-70371103</th>\n",
       "      <th>0</th>\n",
       "      <td>2</td>\n",
       "      <td>1</td>\n",
       "    </tr>\n",
       "    <tr>\n",
       "      <th>QC-70371301</th>\n",
       "      <th>0</th>\n",
       "      <td>3</td>\n",
       "      <td>1</td>\n",
       "    </tr>\n",
       "    <tr>\n",
       "      <th>QC-70371302</th>\n",
       "      <th>0</th>\n",
       "      <td>3</td>\n",
       "      <td>1</td>\n",
       "    </tr>\n",
       "    <tr>\n",
       "      <th>QC-70381101</th>\n",
       "      <th>0</th>\n",
       "      <td>2</td>\n",
       "      <td>1</td>\n",
       "    </tr>\n",
       "    <tr>\n",
       "      <th>QC-70381102</th>\n",
       "      <th>0</th>\n",
       "      <td>2</td>\n",
       "      <td>1</td>\n",
       "    </tr>\n",
       "    <tr>\n",
       "      <th>QC-70381103</th>\n",
       "      <th>0</th>\n",
       "      <td>2</td>\n",
       "      <td>1</td>\n",
       "    </tr>\n",
       "    <tr>\n",
       "      <th>QC-70391101</th>\n",
       "      <th>0</th>\n",
       "      <td>3</td>\n",
       "      <td>1</td>\n",
       "    </tr>\n",
       "    <tr>\n",
       "      <th>QC-70391102</th>\n",
       "      <th>0</th>\n",
       "      <td>3</td>\n",
       "      <td>1</td>\n",
       "    </tr>\n",
       "    <tr>\n",
       "      <th>QC-70391103</th>\n",
       "      <th>0</th>\n",
       "      <td>3</td>\n",
       "      <td>1</td>\n",
       "    </tr>\n",
       "    <tr>\n",
       "      <th>QC-70931101</th>\n",
       "      <th>0</th>\n",
       "      <td>2</td>\n",
       "      <td>1</td>\n",
       "    </tr>\n",
       "    <tr>\n",
       "      <th>QC-70931102</th>\n",
       "      <th>0</th>\n",
       "      <td>2</td>\n",
       "      <td>1</td>\n",
       "    </tr>\n",
       "    <tr>\n",
       "      <th>QC-70931103</th>\n",
       "      <th>0</th>\n",
       "      <td>2</td>\n",
       "      <td>1</td>\n",
       "    </tr>\n",
       "    <tr>\n",
       "      <th>QC-70931301</th>\n",
       "      <th>0</th>\n",
       "      <td>3</td>\n",
       "      <td>1</td>\n",
       "    </tr>\n",
       "    <tr>\n",
       "      <th>QC-70931302</th>\n",
       "      <th>0</th>\n",
       "      <td>3</td>\n",
       "      <td>1</td>\n",
       "    </tr>\n",
       "    <tr>\n",
       "      <th>QC-70941101</th>\n",
       "      <th>0</th>\n",
       "      <td>2</td>\n",
       "      <td>1</td>\n",
       "    </tr>\n",
       "    <tr>\n",
       "      <th>QC-70941102</th>\n",
       "      <th>0</th>\n",
       "      <td>2</td>\n",
       "      <td>1</td>\n",
       "    </tr>\n",
       "    <tr>\n",
       "      <th>QC-70941103</th>\n",
       "      <th>0</th>\n",
       "      <td>2</td>\n",
       "      <td>1</td>\n",
       "    </tr>\n",
       "    <tr>\n",
       "      <th>QC-70951101</th>\n",
       "      <th>0</th>\n",
       "      <td>3</td>\n",
       "      <td>1</td>\n",
       "    </tr>\n",
       "    <tr>\n",
       "      <th>QC-70951102</th>\n",
       "      <th>0</th>\n",
       "      <td>3</td>\n",
       "      <td>1</td>\n",
       "    </tr>\n",
       "    <tr>\n",
       "      <th>QC-70951103</th>\n",
       "      <th>0</th>\n",
       "      <td>3</td>\n",
       "      <td>1</td>\n",
       "    </tr>\n",
       "    <tr>\n",
       "      <th rowspan=\"8\" valign=\"top\">00-16 (Build 7)</th>\n",
       "      <th>QC-70371101</th>\n",
       "      <th>0</th>\n",
       "      <td>1301</td>\n",
       "      <td>1</td>\n",
       "    </tr>\n",
       "    <tr>\n",
       "      <th>QC-70371102</th>\n",
       "      <th>0</th>\n",
       "      <td>1304</td>\n",
       "      <td>1</td>\n",
       "    </tr>\n",
       "    <tr>\n",
       "      <th>QC-70371103</th>\n",
       "      <th>0</th>\n",
       "      <td>1304</td>\n",
       "      <td>1</td>\n",
       "    </tr>\n",
       "    <tr>\n",
       "      <th>QC-70371301</th>\n",
       "      <th>0</th>\n",
       "      <td>1578</td>\n",
       "      <td>1</td>\n",
       "    </tr>\n",
       "    <tr>\n",
       "      <th>QC-70371302</th>\n",
       "      <th>0</th>\n",
       "      <td>1578</td>\n",
       "      <td>1</td>\n",
       "    </tr>\n",
       "    <tr>\n",
       "      <th>QC-70371601</th>\n",
       "      <th>0</th>\n",
       "      <td>1</td>\n",
       "      <td>1</td>\n",
       "    </tr>\n",
       "    <tr>\n",
       "      <th>QC-70381101</th>\n",
       "      <th>0</th>\n",
       "      <td>1346</td>\n",
       "      <td>1</td>\n",
       "    </tr>\n",
       "    <tr>\n",
       "      <th>QC-70381102</th>\n",
       "      <th>0</th>\n",
       "      <td>1349</td>\n",
       "      <td>1</td>\n",
       "    </tr>\n",
       "    <tr>\n",
       "      <th>...</th>\n",
       "      <th>...</th>\n",
       "      <th>...</th>\n",
       "      <td>...</td>\n",
       "      <td>...</td>\n",
       "    </tr>\n",
       "    <tr>\n",
       "      <th rowspan=\"18\" valign=\"top\">00-19D (Build 13)</th>\n",
       "      <th>QC-70371302</th>\n",
       "      <th>0</th>\n",
       "      <td>189</td>\n",
       "      <td>3</td>\n",
       "    </tr>\n",
       "    <tr>\n",
       "      <th>QC-70381101</th>\n",
       "      <th>0</th>\n",
       "      <td>137</td>\n",
       "      <td>3</td>\n",
       "    </tr>\n",
       "    <tr>\n",
       "      <th>QC-70381102</th>\n",
       "      <th>0</th>\n",
       "      <td>139</td>\n",
       "      <td>3</td>\n",
       "    </tr>\n",
       "    <tr>\n",
       "      <th>QC-70381103</th>\n",
       "      <th>0</th>\n",
       "      <td>139</td>\n",
       "      <td>3</td>\n",
       "    </tr>\n",
       "    <tr>\n",
       "      <th>QC-70391101</th>\n",
       "      <th>0</th>\n",
       "      <td>17</td>\n",
       "      <td>2</td>\n",
       "    </tr>\n",
       "    <tr>\n",
       "      <th>QC-70391102</th>\n",
       "      <th>0</th>\n",
       "      <td>17</td>\n",
       "      <td>2</td>\n",
       "    </tr>\n",
       "    <tr>\n",
       "      <th>QC-70391103</th>\n",
       "      <th>0</th>\n",
       "      <td>17</td>\n",
       "      <td>2</td>\n",
       "    </tr>\n",
       "    <tr>\n",
       "      <th>QC-70931101</th>\n",
       "      <th>0</th>\n",
       "      <td>235</td>\n",
       "      <td>3</td>\n",
       "    </tr>\n",
       "    <tr>\n",
       "      <th>QC-70931102</th>\n",
       "      <th>0</th>\n",
       "      <td>243</td>\n",
       "      <td>3</td>\n",
       "    </tr>\n",
       "    <tr>\n",
       "      <th>QC-70931103</th>\n",
       "      <th>0</th>\n",
       "      <td>243</td>\n",
       "      <td>3</td>\n",
       "    </tr>\n",
       "    <tr>\n",
       "      <th>QC-70931301</th>\n",
       "      <th>0</th>\n",
       "      <td>187</td>\n",
       "      <td>3</td>\n",
       "    </tr>\n",
       "    <tr>\n",
       "      <th>QC-70931302</th>\n",
       "      <th>0</th>\n",
       "      <td>189</td>\n",
       "      <td>3</td>\n",
       "    </tr>\n",
       "    <tr>\n",
       "      <th>QC-70941101</th>\n",
       "      <th>0</th>\n",
       "      <td>153</td>\n",
       "      <td>3</td>\n",
       "    </tr>\n",
       "    <tr>\n",
       "      <th>QC-70941102</th>\n",
       "      <th>0</th>\n",
       "      <td>156</td>\n",
       "      <td>3</td>\n",
       "    </tr>\n",
       "    <tr>\n",
       "      <th>QC-70941103</th>\n",
       "      <th>0</th>\n",
       "      <td>155</td>\n",
       "      <td>3</td>\n",
       "    </tr>\n",
       "    <tr>\n",
       "      <th>QC-70951101</th>\n",
       "      <th>0</th>\n",
       "      <td>15</td>\n",
       "      <td>2</td>\n",
       "    </tr>\n",
       "    <tr>\n",
       "      <th>QC-70951102</th>\n",
       "      <th>0</th>\n",
       "      <td>17</td>\n",
       "      <td>2</td>\n",
       "    </tr>\n",
       "    <tr>\n",
       "      <th>QC-70951103</th>\n",
       "      <th>0</th>\n",
       "      <td>18</td>\n",
       "      <td>2</td>\n",
       "    </tr>\n",
       "    <tr>\n",
       "      <th rowspan=\"6\" valign=\"top\">00-19D (Build 9)</th>\n",
       "      <th>QC-70371101</th>\n",
       "      <th>0</th>\n",
       "      <td>8</td>\n",
       "      <td>1</td>\n",
       "    </tr>\n",
       "    <tr>\n",
       "      <th>QC-70371102</th>\n",
       "      <th>0</th>\n",
       "      <td>8</td>\n",
       "      <td>1</td>\n",
       "    </tr>\n",
       "    <tr>\n",
       "      <th>QC-70371103</th>\n",
       "      <th>0</th>\n",
       "      <td>8</td>\n",
       "      <td>1</td>\n",
       "    </tr>\n",
       "    <tr>\n",
       "      <th>QC-70931101</th>\n",
       "      <th>0</th>\n",
       "      <td>8</td>\n",
       "      <td>1</td>\n",
       "    </tr>\n",
       "    <tr>\n",
       "      <th>QC-70931102</th>\n",
       "      <th>0</th>\n",
       "      <td>8</td>\n",
       "      <td>1</td>\n",
       "    </tr>\n",
       "    <tr>\n",
       "      <th>QC-70931103</th>\n",
       "      <th>0</th>\n",
       "      <td>8</td>\n",
       "      <td>1</td>\n",
       "    </tr>\n",
       "    <tr>\n",
       "      <th rowspan=\"6\" valign=\"top\">00-20 (Build 8)</th>\n",
       "      <th>QC-70391101</th>\n",
       "      <th>0</th>\n",
       "      <td>1</td>\n",
       "      <td>1</td>\n",
       "    </tr>\n",
       "    <tr>\n",
       "      <th>QC-70391102</th>\n",
       "      <th>0</th>\n",
       "      <td>1</td>\n",
       "      <td>1</td>\n",
       "    </tr>\n",
       "    <tr>\n",
       "      <th>QC-70391103</th>\n",
       "      <th>0</th>\n",
       "      <td>1</td>\n",
       "      <td>1</td>\n",
       "    </tr>\n",
       "    <tr>\n",
       "      <th>QC-70951101</th>\n",
       "      <th>0</th>\n",
       "      <td>1</td>\n",
       "      <td>1</td>\n",
       "    </tr>\n",
       "    <tr>\n",
       "      <th>QC-70951102</th>\n",
       "      <th>0</th>\n",
       "      <td>1</td>\n",
       "      <td>1</td>\n",
       "    </tr>\n",
       "    <tr>\n",
       "      <th>QC-70951103</th>\n",
       "      <th>0</th>\n",
       "      <td>1</td>\n",
       "      <td>1</td>\n",
       "    </tr>\n",
       "  </tbody>\n",
       "</table>\n",
       "<p>177 rows × 2 columns</p>\n",
       "</div>"
      ],
      "text/plain": [
       "                                 Prod_ID  Model_ID\n",
       "IPU_Ver           QC_Lot                          \n",
       "00-15 (Build 5)   QC-70371101 0        2         1\n",
       "                  QC-70371102 0        2         1\n",
       "                  QC-70371103 0        2         1\n",
       "                  QC-70371301 0        3         1\n",
       "                  QC-70371302 0        3         1\n",
       "                  QC-70381101 0        2         1\n",
       "                  QC-70381102 0        2         1\n",
       "                  QC-70381103 0        2         1\n",
       "                  QC-70391101 0        3         1\n",
       "                  QC-70391102 0        3         1\n",
       "                  QC-70391103 0        3         1\n",
       "                  QC-70931101 0        2         1\n",
       "                  QC-70931102 0        2         1\n",
       "                  QC-70931103 0        2         1\n",
       "                  QC-70931301 0        3         1\n",
       "                  QC-70931302 0        3         1\n",
       "                  QC-70941101 0        2         1\n",
       "                  QC-70941102 0        2         1\n",
       "                  QC-70941103 0        2         1\n",
       "                  QC-70951101 0        3         1\n",
       "                  QC-70951102 0        3         1\n",
       "                  QC-70951103 0        3         1\n",
       "00-16 (Build 7)   QC-70371101 0     1301         1\n",
       "                  QC-70371102 0     1304         1\n",
       "                  QC-70371103 0     1304         1\n",
       "                  QC-70371301 0     1578         1\n",
       "                  QC-70371302 0     1578         1\n",
       "                  QC-70371601 0        1         1\n",
       "                  QC-70381101 0     1346         1\n",
       "                  QC-70381102 0     1349         1\n",
       "...                                  ...       ...\n",
       "00-19D (Build 13) QC-70371302 0      189         3\n",
       "                  QC-70381101 0      137         3\n",
       "                  QC-70381102 0      139         3\n",
       "                  QC-70381103 0      139         3\n",
       "                  QC-70391101 0       17         2\n",
       "                  QC-70391102 0       17         2\n",
       "                  QC-70391103 0       17         2\n",
       "                  QC-70931101 0      235         3\n",
       "                  QC-70931102 0      243         3\n",
       "                  QC-70931103 0      243         3\n",
       "                  QC-70931301 0      187         3\n",
       "                  QC-70931302 0      189         3\n",
       "                  QC-70941101 0      153         3\n",
       "                  QC-70941102 0      156         3\n",
       "                  QC-70941103 0      155         3\n",
       "                  QC-70951101 0       15         2\n",
       "                  QC-70951102 0       17         2\n",
       "                  QC-70951103 0       18         2\n",
       "00-19D (Build 9)  QC-70371101 0        8         1\n",
       "                  QC-70371102 0        8         1\n",
       "                  QC-70371103 0        8         1\n",
       "                  QC-70931101 0        8         1\n",
       "                  QC-70931102 0        8         1\n",
       "                  QC-70931103 0        8         1\n",
       "00-20 (Build 8)   QC-70391101 0        1         1\n",
       "                  QC-70391102 0        1         1\n",
       "                  QC-70391103 0        1         1\n",
       "                  QC-70951101 0        1         1\n",
       "                  QC-70951102 0        1         1\n",
       "                  QC-70951103 0        1         1\n",
       "\n",
       "[177 rows x 2 columns]"
      ]
     },
     "execution_count": 75,
     "metadata": {},
     "output_type": "execute_result"
    }
   ],
   "source": [
    "def count_unique(x):\n",
    "    np_arr = x.values\n",
    "    output = []\n",
    "    for i in range(np_arr.shape[1]):\n",
    "        output.append(len(np.unique(np_arr[:,i])))\n",
    "    return  pd.DataFrame(np.array(output).reshape(-1,len(x.columns)), columns = x.columns)\n",
    "\n",
    "qc_machine_data.groupby(['IPU_Ver', 'QC_Lot'])['Prod_ID', 'Model_ID'].apply(count_unique)"
   ]
  },
  {
   "cell_type": "code",
   "execution_count": 112,
   "metadata": {
    "collapsed": false
   },
   "outputs": [
    {
     "data": {
      "text/plain": [
       "<matplotlib.legend.Legend at 0x147ca9518>"
      ]
     },
     "execution_count": 112,
     "metadata": {},
     "output_type": "execute_result"
    },
    {
     "data": {
      "image/png": "[encoded data removed]",
      "text/plain": [
       "<matplotlib.figure.Figure at 0x159c8d3c8>"
      ]
     },
     "metadata": {},
     "output_type": "display_data"
    }
   ],
   "source": [
    "plot_data = qc_machine_data['2017-02-12 12:00:00':'2017-02-15 16:00:00']['W-X']\n",
    "plot_data.plot(alpha =0.5, style='-')\n",
    "plot_data.resample('H').mean().plot(style=':')\n",
    "plt.legend(['input', 'resample', 'asfreq'], loc='upper left')"
   ]
  },
  {
   "cell_type": "code",
   "execution_count": 139,
   "metadata": {
    "collapsed": false
   },
   "outputs": [
    {
     "name": "stderr",
     "output_type": "stream",
     "text": [
      "/Users/giang/anaconda3/lib/python3.6/site-packages/numpy/lib/function_base.py:3003: RuntimeWarning: invalid value encountered in true_divide\n",
      "  c /= stddev[:, None]\n",
      "/Users/giang/anaconda3/lib/python3.6/site-packages/numpy/lib/function_base.py:3004: RuntimeWarning: invalid value encountered in true_divide\n",
      "  c /= stddev[None, :]\n"
     ]
    },
    {
     "ename": "TypeError",
     "evalue": "Series.name must be a hashable type",
     "output_type": "error",
     "traceback": [
      "\u001b[0;31m---------------------------------------------------------------------------\u001b[0m",
      "\u001b[0;31mAttributeError\u001b[0m                            Traceback (most recent call last)",
      "\u001b[0;32m/Users/giang/anaconda3/lib/python3.6/site-packages/pandas/core/groupby.py\u001b[0m in \u001b[0;36m_wrap_applied_output\u001b[0;34m(self, keys, values, not_indexed_same)\u001b[0m\n\u001b[1;32m   3405\u001b[0m                         \u001b[0;31m# then propagate that name to the result.\u001b[0m\u001b[0;34m\u001b[0m\u001b[0;34m\u001b[0m\u001b[0m\n\u001b[0;32m-> 3406\u001b[0;31m                         \u001b[0mindex\u001b[0m \u001b[0;34m=\u001b[0m \u001b[0mv\u001b[0m\u001b[0;34m.\u001b[0m\u001b[0mindex\u001b[0m\u001b[0;34m.\u001b[0m\u001b[0mcopy\u001b[0m\u001b[0;34m(\u001b[0m\u001b[0;34m)\u001b[0m\u001b[0;34m\u001b[0m\u001b[0m\n\u001b[0m\u001b[1;32m   3407\u001b[0m                         \u001b[0;32mif\u001b[0m \u001b[0mindex\u001b[0m\u001b[0;34m.\u001b[0m\u001b[0mname\u001b[0m \u001b[0;32mis\u001b[0m \u001b[0;32mNone\u001b[0m\u001b[0;34m:\u001b[0m\u001b[0;34m\u001b[0m\u001b[0m\n",
      "\u001b[0;31mAttributeError\u001b[0m: 'numpy.ndarray' object has no attribute 'index'",
      "\nDuring handling of the above exception, another exception occurred:\n",
      "\u001b[0;31mTypeError\u001b[0m                                 Traceback (most recent call last)",
      "\u001b[0;32m<ipython-input-139-e63f2416aa39>\u001b[0m in \u001b[0;36m<module>\u001b[0;34m()\u001b[0m\n\u001b[1;32m      3\u001b[0m     \u001b[0;32mreturn\u001b[0m \u001b[0mnp\u001b[0m\u001b[0;34m.\u001b[0m\u001b[0mcorrcoef\u001b[0m\u001b[0;34m(\u001b[0m\u001b[0my\u001b[0m\u001b[0;34m[\u001b[0m\u001b[0;34m:\u001b[0m\u001b[0;34m,\u001b[0m\u001b[0;36m0\u001b[0m\u001b[0;34m]\u001b[0m\u001b[0;34m,\u001b[0m \u001b[0my\u001b[0m\u001b[0;34m[\u001b[0m\u001b[0;34m:\u001b[0m\u001b[0;34m,\u001b[0m\u001b[0;36m1\u001b[0m\u001b[0;34m]\u001b[0m\u001b[0;34m)\u001b[0m\u001b[0;34m\u001b[0m\u001b[0m\n\u001b[1;32m      4\u001b[0m \u001b[0;34m\u001b[0m\u001b[0m\n\u001b[0;32m----> 5\u001b[0;31m \u001b[0mprod1\u001b[0m\u001b[0;34m=\u001b[0m \u001b[0mqc_machine_data\u001b[0m\u001b[0;34m.\u001b[0m\u001b[0mgroupby\u001b[0m\u001b[0;34m(\u001b[0m\u001b[0;34m[\u001b[0m\u001b[0;34m'Prod_ID'\u001b[0m\u001b[0;34m]\u001b[0m\u001b[0;34m)\u001b[0m\u001b[0;34m[\u001b[0m\u001b[0;34m[\u001b[0m\u001b[0;34m'W-X'\u001b[0m\u001b[0;34m,\u001b[0m \u001b[0;34m'W-Y'\u001b[0m\u001b[0;34m]\u001b[0m\u001b[0;34m]\u001b[0m\u001b[0;34m.\u001b[0m\u001b[0mapply\u001b[0m\u001b[0;34m(\u001b[0m\u001b[0mcoef\u001b[0m\u001b[0;34m)\u001b[0m\u001b[0;34m\u001b[0m\u001b[0m\n\u001b[0m",
      "\u001b[0;32m/Users/giang/anaconda3/lib/python3.6/site-packages/pandas/core/groupby.py\u001b[0m in \u001b[0;36mapply\u001b[0;34m(self, func, *args, **kwargs)\u001b[0m\n\u001b[1;32m    692\u001b[0m         \u001b[0;31m# ignore SettingWithCopy here in case the user mutates\u001b[0m\u001b[0;34m\u001b[0m\u001b[0;34m\u001b[0m\u001b[0m\n\u001b[1;32m    693\u001b[0m         \u001b[0;32mwith\u001b[0m \u001b[0moption_context\u001b[0m\u001b[0;34m(\u001b[0m\u001b[0;34m'mode.chained_assignment'\u001b[0m\u001b[0;34m,\u001b[0m \u001b[0;32mNone\u001b[0m\u001b[0;34m)\u001b[0m\u001b[0;34m:\u001b[0m\u001b[0;34m\u001b[0m\u001b[0m\n\u001b[0;32m--> 694\u001b[0;31m             \u001b[0;32mreturn\u001b[0m \u001b[0mself\u001b[0m\u001b[0;34m.\u001b[0m\u001b[0m_python_apply_general\u001b[0m\u001b[0;34m(\u001b[0m\u001b[0mf\u001b[0m\u001b[0;34m)\u001b[0m\u001b[0;34m\u001b[0m\u001b[0m\n\u001b[0m\u001b[1;32m    695\u001b[0m \u001b[0;34m\u001b[0m\u001b[0m\n\u001b[1;32m    696\u001b[0m     \u001b[0;32mdef\u001b[0m \u001b[0m_python_apply_general\u001b[0m\u001b[0;34m(\u001b[0m\u001b[0mself\u001b[0m\u001b[0;34m,\u001b[0m \u001b[0mf\u001b[0m\u001b[0;34m)\u001b[0m\u001b[0;34m:\u001b[0m\u001b[0;34m\u001b[0m\u001b[0m\n",
      "\u001b[0;32m/Users/giang/anaconda3/lib/python3.6/site-packages/pandas/core/groupby.py\u001b[0m in \u001b[0;36m_python_apply_general\u001b[0;34m(self, f)\u001b[0m\n\u001b[1;32m    701\u001b[0m             \u001b[0mkeys\u001b[0m\u001b[0;34m,\u001b[0m\u001b[0;34m\u001b[0m\u001b[0m\n\u001b[1;32m    702\u001b[0m             \u001b[0mvalues\u001b[0m\u001b[0;34m,\u001b[0m\u001b[0;34m\u001b[0m\u001b[0m\n\u001b[0;32m--> 703\u001b[0;31m             not_indexed_same=mutated or self.mutated)\n\u001b[0m\u001b[1;32m    704\u001b[0m \u001b[0;34m\u001b[0m\u001b[0m\n\u001b[1;32m    705\u001b[0m     \u001b[0;32mdef\u001b[0m \u001b[0m_iterate_slices\u001b[0m\u001b[0;34m(\u001b[0m\u001b[0mself\u001b[0m\u001b[0;34m)\u001b[0m\u001b[0;34m:\u001b[0m\u001b[0;34m\u001b[0m\u001b[0m\n",
      "\u001b[0;32m/Users/giang/anaconda3/lib/python3.6/site-packages/pandas/core/groupby.py\u001b[0m in \u001b[0;36m_wrap_applied_output\u001b[0;34m(self, keys, values, not_indexed_same)\u001b[0m\n\u001b[1;32m   3437\u001b[0m                     \u001b[0;31m# GH1738: values is list of arrays of unequal lengths fall\u001b[0m\u001b[0;34m\u001b[0m\u001b[0;34m\u001b[0m\u001b[0m\n\u001b[1;32m   3438\u001b[0m                     \u001b[0;31m# through to the outer else caluse\u001b[0m\u001b[0;34m\u001b[0m\u001b[0;34m\u001b[0m\u001b[0m\n\u001b[0;32m-> 3439\u001b[0;31m                     \u001b[0;32mreturn\u001b[0m \u001b[0mSeries\u001b[0m\u001b[0;34m(\u001b[0m\u001b[0mvalues\u001b[0m\u001b[0;34m,\u001b[0m \u001b[0mindex\u001b[0m\u001b[0;34m=\u001b[0m\u001b[0mkey_index\u001b[0m\u001b[0;34m,\u001b[0m \u001b[0mname\u001b[0m\u001b[0;34m=\u001b[0m\u001b[0mself\u001b[0m\u001b[0;34m.\u001b[0m\u001b[0mname\u001b[0m\u001b[0;34m)\u001b[0m\u001b[0;34m\u001b[0m\u001b[0m\n\u001b[0m\u001b[1;32m   3440\u001b[0m \u001b[0;34m\u001b[0m\u001b[0m\n\u001b[1;32m   3441\u001b[0m                 \u001b[0;31m# if we have date/time like in the original, then coerce dates\u001b[0m\u001b[0;34m\u001b[0m\u001b[0;34m\u001b[0m\u001b[0m\n",
      "\u001b[0;32m/Users/giang/anaconda3/lib/python3.6/site-packages/pandas/core/series.py\u001b[0m in \u001b[0;36m__init__\u001b[0;34m(self, data, index, dtype, name, copy, fastpath)\u001b[0m\n\u001b[1;32m    247\u001b[0m         \u001b[0mgeneric\u001b[0m\u001b[0;34m.\u001b[0m\u001b[0mNDFrame\u001b[0m\u001b[0;34m.\u001b[0m\u001b[0m__init__\u001b[0m\u001b[0;34m(\u001b[0m\u001b[0mself\u001b[0m\u001b[0;34m,\u001b[0m \u001b[0mdata\u001b[0m\u001b[0;34m,\u001b[0m \u001b[0mfastpath\u001b[0m\u001b[0;34m=\u001b[0m\u001b[0;32mTrue\u001b[0m\u001b[0;34m)\u001b[0m\u001b[0;34m\u001b[0m\u001b[0m\n\u001b[1;32m    248\u001b[0m \u001b[0;34m\u001b[0m\u001b[0m\n\u001b[0;32m--> 249\u001b[0;31m         \u001b[0mself\u001b[0m\u001b[0;34m.\u001b[0m\u001b[0mname\u001b[0m \u001b[0;34m=\u001b[0m \u001b[0mname\u001b[0m\u001b[0;34m\u001b[0m\u001b[0m\n\u001b[0m\u001b[1;32m    250\u001b[0m         \u001b[0mself\u001b[0m\u001b[0;34m.\u001b[0m\u001b[0m_set_axis\u001b[0m\u001b[0;34m(\u001b[0m\u001b[0;36m0\u001b[0m\u001b[0;34m,\u001b[0m \u001b[0mindex\u001b[0m\u001b[0;34m,\u001b[0m \u001b[0mfastpath\u001b[0m\u001b[0;34m=\u001b[0m\u001b[0;32mTrue\u001b[0m\u001b[0;34m)\u001b[0m\u001b[0;34m\u001b[0m\u001b[0m\n\u001b[1;32m    251\u001b[0m \u001b[0;34m\u001b[0m\u001b[0m\n",
      "\u001b[0;32m/Users/giang/anaconda3/lib/python3.6/site-packages/pandas/core/generic.py\u001b[0m in \u001b[0;36m__setattr__\u001b[0;34m(self, name, value)\u001b[0m\n\u001b[1;32m   2764\u001b[0m             \u001b[0mobject\u001b[0m\u001b[0;34m.\u001b[0m\u001b[0m__setattr__\u001b[0m\u001b[0;34m(\u001b[0m\u001b[0mself\u001b[0m\u001b[0;34m,\u001b[0m \u001b[0mname\u001b[0m\u001b[0;34m,\u001b[0m \u001b[0mvalue\u001b[0m\u001b[0;34m)\u001b[0m\u001b[0;34m\u001b[0m\u001b[0m\n\u001b[1;32m   2765\u001b[0m         \u001b[0;32melif\u001b[0m \u001b[0mname\u001b[0m \u001b[0;32min\u001b[0m \u001b[0mself\u001b[0m\u001b[0;34m.\u001b[0m\u001b[0m_metadata\u001b[0m\u001b[0;34m:\u001b[0m\u001b[0;34m\u001b[0m\u001b[0m\n\u001b[0;32m-> 2766\u001b[0;31m             \u001b[0mobject\u001b[0m\u001b[0;34m.\u001b[0m\u001b[0m__setattr__\u001b[0m\u001b[0;34m(\u001b[0m\u001b[0mself\u001b[0m\u001b[0;34m,\u001b[0m \u001b[0mname\u001b[0m\u001b[0;34m,\u001b[0m \u001b[0mvalue\u001b[0m\u001b[0;34m)\u001b[0m\u001b[0;34m\u001b[0m\u001b[0m\n\u001b[0m\u001b[1;32m   2767\u001b[0m         \u001b[0;32melse\u001b[0m\u001b[0;34m:\u001b[0m\u001b[0;34m\u001b[0m\u001b[0m\n\u001b[1;32m   2768\u001b[0m             \u001b[0;32mtry\u001b[0m\u001b[0;34m:\u001b[0m\u001b[0;34m\u001b[0m\u001b[0m\n",
      "\u001b[0;32m/Users/giang/anaconda3/lib/python3.6/site-packages/pandas/core/series.py\u001b[0m in \u001b[0;36mname\u001b[0;34m(self, value)\u001b[0m\n\u001b[1;32m    327\u001b[0m     \u001b[0;32mdef\u001b[0m \u001b[0mname\u001b[0m\u001b[0;34m(\u001b[0m\u001b[0mself\u001b[0m\u001b[0;34m,\u001b[0m \u001b[0mvalue\u001b[0m\u001b[0;34m)\u001b[0m\u001b[0;34m:\u001b[0m\u001b[0;34m\u001b[0m\u001b[0m\n\u001b[1;32m    328\u001b[0m         \u001b[0;32mif\u001b[0m \u001b[0mvalue\u001b[0m \u001b[0;32mis\u001b[0m \u001b[0;32mnot\u001b[0m \u001b[0;32mNone\u001b[0m \u001b[0;32mand\u001b[0m \u001b[0;32mnot\u001b[0m \u001b[0mis_hashable\u001b[0m\u001b[0;34m(\u001b[0m\u001b[0mvalue\u001b[0m\u001b[0;34m)\u001b[0m\u001b[0;34m:\u001b[0m\u001b[0;34m\u001b[0m\u001b[0m\n\u001b[0;32m--> 329\u001b[0;31m             \u001b[0;32mraise\u001b[0m \u001b[0mTypeError\u001b[0m\u001b[0;34m(\u001b[0m\u001b[0;34m'Series.name must be a hashable type'\u001b[0m\u001b[0;34m)\u001b[0m\u001b[0;34m\u001b[0m\u001b[0m\n\u001b[0m\u001b[1;32m    330\u001b[0m         \u001b[0mobject\u001b[0m\u001b[0;34m.\u001b[0m\u001b[0m__setattr__\u001b[0m\u001b[0;34m(\u001b[0m\u001b[0mself\u001b[0m\u001b[0;34m,\u001b[0m \u001b[0;34m'_name'\u001b[0m\u001b[0;34m,\u001b[0m \u001b[0mvalue\u001b[0m\u001b[0;34m)\u001b[0m\u001b[0;34m\u001b[0m\u001b[0m\n\u001b[1;32m    331\u001b[0m \u001b[0;34m\u001b[0m\u001b[0m\n",
      "\u001b[0;31mTypeError\u001b[0m: Series.name must be a hashable type"
     ]
    }
   ],
   "source": [
    "def coef(x):\n",
    "    y = x.values\n",
    "    return np.corrcoef(y[:,0], y[:,1])\n",
    "\n",
    "prod1= qc_machine_data.groupby(['Prod_ID'])[['W-X', 'W-Y']].apply(coef)\n"
   ]
  },
  {
   "cell_type": "code",
   "execution_count": 141,
   "metadata": {
    "collapsed": false
   },
   "outputs": [
    {
     "data": {
      "text/plain": [
       "array([[ 1.        ,  0.94977836],\n",
       "       [ 0.94977836,  1.        ]])"
      ]
     },
     "execution_count": 141,
     "metadata": {},
     "output_type": "execute_result"
    }
   ],
   "source": [
    "np.corrcoef(qc_machine_data[qc_machine_data.Prod_ID == '155786']['W-X'],qc_machine_data[qc_machine_data.Prod_ID == '155786']['W-Y']) "
   ]
  },
  {
   "cell_type": "code",
   "execution_count": 185,
   "metadata": {
    "collapsed": false
   },
   "outputs": [
    {
     "name": "stdout",
     "output_type": "stream",
     "text": [
      "max in is 787\n"
     ]
    }
   ],
   "source": [
    "processed_data = qc_machine_data.loc[qc_machine_data.Prod_ID =='153399', ['W-X','W-Y','W-Z']].values\n",
    "max_ind = processed_data.shape[0]\n",
    "print('max in is', max_ind)\n"
   ]
  },
  {
   "cell_type": "code",
   "execution_count": 151,
   "metadata": {
    "collapsed": false
   },
   "outputs": [],
   "source": [
    "\n"
   ]
  },
  {
   "cell_type": "code",
   "execution_count": null,
   "metadata": {
    "collapsed": true
   },
   "outputs": [],
   "source": []
  },
  {
   "cell_type": "code",
   "execution_count": 191,
   "metadata": {
    "collapsed": false
   },
   "outputs": [],
   "source": [
    "import random as rd\n",
    "def sm_next_batch(batch_size, n_steps):\n",
    "    start = rd.randint(0, max_ind-n_steps-1)\n",
    "    ys1 = machine_data[start: start+n_steps]\n",
    "    ys2 = machine_data[start+1: start+n_steps+1,0]\n",
    "\n",
    "    \n",
    "    return ys1.reshape(1, n_steps, 3), ys2.reshape(1, n_steps, 1)"
   ]
  },
  {
   "cell_type": "code",
   "execution_count": 192,
   "metadata": {
    "collapsed": false
   },
   "outputs": [
    {
     "name": "stdout",
     "output_type": "stream",
     "text": [
      "(1, 20, 3)\n"
     ]
    }
   ],
   "source": [
    "X, y= sm_next_batch(1, 20)\n",
    "print(X.shape)"
   ]
  },
  {
   "cell_type": "code",
   "execution_count": 196,
   "metadata": {
    "collapsed": true
   },
   "outputs": [],
   "source": [
    "tf.reset_default_graph()\n",
    "\n",
    "n_steps = 120\n",
    "n_inputs = 3\n",
    "n_neurons = 100\n",
    "n_outputs = 1\n",
    "\n",
    "X = tf.placeholder(tf.float32, [None, n_steps, n_inputs])\n",
    "y = tf.placeholder(tf.float32, [None, n_steps, n_outputs])\n",
    "\n",
    "cell = tf.contrib.rnn.OutputProjectionWrapper(\n",
    "    tf.contrib.rnn.BasicRNNCell(num_units=n_neurons, activation=tf.nn.relu),\n",
    "    output_size=n_outputs)\n",
    "outputs, states = tf.nn.dynamic_rnn(cell, X, dtype=tf.float32)\n",
    "\n",
    "n_outputs = 1\n",
    "learning_rate = 0.001\n",
    "\n",
    "loss = tf.reduce_sum(tf.square(outputs - y))\n",
    "optimizer = tf.train.AdamOptimizer(learning_rate=learning_rate)\n",
    "training_op = optimizer.minimize(loss)\n",
    "\n",
    "init = tf.global_variables_initializer()"
   ]
  },
  {
   "cell_type": "code",
   "execution_count": 197,
   "metadata": {
    "collapsed": false
   },
   "outputs": [
    {
     "name": "stdout",
     "output_type": "stream",
     "text": [
      "0 \tMSE: 1.75313e+08\n",
      "100 \tMSE: 831056.0\n",
      "200 \tMSE: 176481.0\n",
      "300 \tMSE: 36000.3\n",
      "400 \tMSE: 100336.0\n",
      "500 \tMSE: 49712.3\n",
      "600 \tMSE: 63991.8\n",
      "700 \tMSE: 33714.1\n",
      "800 \tMSE: 55008.6\n",
      "900 \tMSE: 50224.8\n",
      "1000 \tMSE: 48959.3\n",
      "1100 \tMSE: 11042.8\n",
      "1200 \tMSE: 31888.5\n",
      "1300 \tMSE: 40575.1\n",
      "1400 \tMSE: 6837.65\n",
      "1500 \tMSE: 10936.9\n",
      "1600 \tMSE: 15710.2\n",
      "1700 \tMSE: 28439.4\n",
      "1800 \tMSE: 9195.21\n",
      "1900 \tMSE: 37613.3\n",
      "2000 \tMSE: 12280.3\n",
      "2100 \tMSE: 14309.9\n",
      "2200 \tMSE: 12446.5\n",
      "2300 \tMSE: 10461.2\n",
      "2400 \tMSE: 28556.4\n",
      "2500 \tMSE: 8495.47\n",
      "2600 \tMSE: 15936.7\n",
      "2700 \tMSE: 39043.1\n",
      "2800 \tMSE: 17535.4\n",
      "2900 \tMSE: 38633.2\n",
      "3000 \tMSE: 26374.5\n",
      "3100 \tMSE: 6579.29\n",
      "3200 \tMSE: 31474.1\n",
      "3300 \tMSE: 23627.9\n",
      "3400 \tMSE: 30270.6\n",
      "3500 \tMSE: 24735.0\n",
      "3600 \tMSE: 23962.1\n",
      "3700 \tMSE: 25169.3\n",
      "3800 \tMSE: 33009.2\n",
      "3900 \tMSE: 12516.7\n",
      "4000 \tMSE: 45161.2\n",
      "4100 \tMSE: 11070.9\n",
      "4200 \tMSE: 21243.3\n",
      "4300 \tMSE: 11170.6\n",
      "4400 \tMSE: 16096.6\n",
      "4500 \tMSE: 31358.9\n",
      "4600 \tMSE: 40359.1\n",
      "4700 \tMSE: 6829.28\n",
      "4800 \tMSE: 24638.7\n",
      "4900 \tMSE: 26229.4\n",
      "5000 \tMSE: 20263.9\n",
      "5100 \tMSE: 28663.3\n",
      "5200 \tMSE: 15574.7\n",
      "5300 \tMSE: 11788.7\n",
      "5400 \tMSE: 22184.7\n",
      "5500 \tMSE: 27938.1\n",
      "5600 \tMSE: 26531.8\n",
      "5700 \tMSE: 7372.26\n",
      "5800 \tMSE: 27478.0\n",
      "5900 \tMSE: 12325.5\n",
      "6000 \tMSE: 9788.06\n",
      "6100 \tMSE: 10567.1\n",
      "6200 \tMSE: 30875.3\n",
      "6300 \tMSE: 10945.8\n",
      "6400 \tMSE: 17059.6\n",
      "6500 \tMSE: 37423.1\n",
      "6600 \tMSE: 30508.0\n",
      "6700 \tMSE: 33837.7\n",
      "6800 \tMSE: 24418.1\n",
      "6900 \tMSE: 36546.3\n"
     ]
    }
   ],
   "source": [
    "n_iterations = 7000\n",
    "sm_batch_size = 50\n",
    "sm_n_steps = 120\n",
    "sm_test_n_steps =20\n",
    "\n",
    "with tf.Session() as sess:\n",
    "    init.run()\n",
    "    for iteration in range(n_iterations):\n",
    "        X_batch, y_batch = sm_next_batch(sm_batch_size, sm_n_steps)\n",
    "        sess.run(training_op, feed_dict={X: X_batch, y: y_batch})\n",
    "        if iteration % 100 == 0:\n",
    "            mse = loss.eval(feed_dict={X: X_batch, y: y_batch})\n",
    "            print(iteration, \"\\tMSE:\", mse)\n",
    "    \n",
    "    X_new, Y_new = sm_next_batch(1, sm_n_steps)\n",
    "    y_pred = sess.run(outputs, feed_dict={X: X_new})\n"
   ]
  },
  {
   "cell_type": "code",
   "execution_count": 198,
   "metadata": {
    "collapsed": false
   },
   "outputs": [
    {
     "data": {
      "text/plain": [
       "array([1766, 1749, 1758, 1771, 1767, 1769, 1760, 1774, 1763, 1765, 1761,\n",
       "       1771, 1759, 1764, 1770, 1762, 1767, 1755, 1754, 1765])"
      ]
     },
     "execution_count": 198,
     "metadata": {},
     "output_type": "execute_result"
    }
   ],
   "source": [
    "X_new[0,0:20,0]"
   ]
  },
  {
   "cell_type": "code",
   "execution_count": 203,
   "metadata": {
    "collapsed": false
   },
   "outputs": [
    {
     "data": {
      "text/plain": [
       "<matplotlib.text.Text at 0x1e0a00c50>"
      ]
     },
     "execution_count": 203,
     "metadata": {},
     "output_type": "execute_result"
    },
    {
     "data": {
      "image/png": "[encoded data removed]",
      "text/plain": [
       "<matplotlib.figure.Figure at 0x1e0a06630>"
      ]
     },
     "metadata": {},
     "output_type": "display_data"
    }
   ],
   "source": [
    "test_size=60\n",
    "plt.title(\"Testing the model\", fontsize=14)\n",
    "plt.plot(np.arange(0,test_size,1), X_new[0,0:test_size,0], \"bo\", markersize=10, label=\"instance\")\n",
    "plt.plot(np.arange(1,test_size+1,1), Y_new[0,:,0][0:test_size], \"w*\", markersize=10, label=\"target\")\n",
    "plt.plot(np.arange(1,test_size+1,1), y_pred[0,:,0][0:test_size], \"r.\", markersize=10, label=\"prediction\")\n",
    "plt.legend(loc=\"upper left\")\n",
    "plt.xlabel(\"Time\")\n",
    "\n"
   ]
  },
  {
   "cell_type": "code",
   "execution_count": 266,
   "metadata": {
    "collapsed": true
   },
   "outputs": [],
   "source": [
    "machine_data2 = q_data.loc[q_data.product_id ==153474, ['w-x','w-y','w-z']]\n",
    "max_ind2 = machine_data2['w-x'].count()\n",
    "machine_data2 = machine_data2.values\n",
    "\n",
    "def sm_next_batch2(batch_size, n_steps):\n",
    "    start = rd.randint(0, max_ind-n_steps-1)\n",
    "    ys1 = machine_data[start: start+n_steps,:]\n",
    "    ys2 = machine_data[start+1: start+n_steps+1,0]\n",
    "    \n",
    "    return ys1.reshape(1, n_steps, 3), ys2.reshape(1, n_steps, 1)\n"
   ]
  },
  {
   "cell_type": "code",
   "execution_count": 202,
   "metadata": {
    "collapsed": false
   },
   "outputs": [
    {
     "name": "stdout",
     "output_type": "stream",
     "text": [
      "0 \tMSE: 5.70769e+08\n",
      "100 \tMSE: 1.12676e+06\n",
      "200 \tMSE: 386687.0\n",
      "300 \tMSE: 81093.9\n",
      "400 \tMSE: 133561.0\n",
      "500 \tMSE: 19878.9\n",
      "600 \tMSE: 159467.0\n",
      "700 \tMSE: 37705.7\n",
      "800 \tMSE: 125098.0\n",
      "900 \tMSE: 101577.0\n",
      "1000 \tMSE: 21850.6\n",
      "1100 \tMSE: 128449.0\n",
      "1200 \tMSE: 61790.2\n",
      "1300 \tMSE: 35611.9\n",
      "1400 \tMSE: 50922.7\n",
      "1500 \tMSE: 32252.3\n",
      "1600 \tMSE: 72233.1\n",
      "1700 \tMSE: 53160.8\n",
      "1800 \tMSE: 8021.27\n",
      "1900 \tMSE: 54454.2\n",
      "2000 \tMSE: 11944.0\n",
      "2100 \tMSE: 22086.1\n",
      "2200 \tMSE: 26646.3\n",
      "2300 \tMSE: 28777.7\n",
      "2400 \tMSE: 5825.19\n",
      "2500 \tMSE: 30454.4\n",
      "2600 \tMSE: 13265.3\n",
      "2700 \tMSE: 42648.0\n",
      "2800 \tMSE: 51889.2\n",
      "2900 \tMSE: 50084.8\n"
     ]
    },
    {
     "ename": "NameError",
     "evalue": "name 'sm_next_batch2' is not defined",
     "output_type": "error",
     "traceback": [
      "\u001b[0;31m---------------------------------------------------------------------------\u001b[0m",
      "\u001b[0;31mNameError\u001b[0m                                 Traceback (most recent call last)",
      "\u001b[0;32m<ipython-input-202-85f747fa0991>\u001b[0m in \u001b[0;36m<module>\u001b[0;34m()\u001b[0m\n\u001b[1;32m     13\u001b[0m             \u001b[0mmse\u001b[0m \u001b[0;34m=\u001b[0m \u001b[0mloss\u001b[0m\u001b[0;34m.\u001b[0m\u001b[0meval\u001b[0m\u001b[0;34m(\u001b[0m\u001b[0mfeed_dict\u001b[0m\u001b[0;34m=\u001b[0m\u001b[0;34m{\u001b[0m\u001b[0mX\u001b[0m\u001b[0;34m:\u001b[0m \u001b[0mX_batch\u001b[0m\u001b[0;34m,\u001b[0m \u001b[0my\u001b[0m\u001b[0;34m:\u001b[0m \u001b[0my_batch\u001b[0m\u001b[0;34m}\u001b[0m\u001b[0;34m)\u001b[0m\u001b[0;34m\u001b[0m\u001b[0m\n\u001b[1;32m     14\u001b[0m             \u001b[0mprint\u001b[0m\u001b[0;34m(\u001b[0m\u001b[0miteration\u001b[0m\u001b[0;34m,\u001b[0m \u001b[0;34m\"\\tMSE:\"\u001b[0m\u001b[0;34m,\u001b[0m \u001b[0mmse\u001b[0m\u001b[0;34m)\u001b[0m\u001b[0;34m\u001b[0m\u001b[0m\n\u001b[0;32m---> 15\u001b[0;31m     \u001b[0mX_new2\u001b[0m\u001b[0;34m,\u001b[0m \u001b[0mY_new2\u001b[0m \u001b[0;34m=\u001b[0m \u001b[0msm_next_batch2\u001b[0m\u001b[0;34m(\u001b[0m\u001b[0;36m1\u001b[0m\u001b[0;34m,\u001b[0m \u001b[0msm_n_steps\u001b[0m\u001b[0;34m)\u001b[0m\u001b[0;34m\u001b[0m\u001b[0m\n\u001b[0m\u001b[1;32m     16\u001b[0m     \u001b[0my_pred2\u001b[0m \u001b[0;34m=\u001b[0m \u001b[0msess\u001b[0m\u001b[0;34m.\u001b[0m\u001b[0mrun\u001b[0m\u001b[0;34m(\u001b[0m\u001b[0moutputs\u001b[0m\u001b[0;34m,\u001b[0m \u001b[0mfeed_dict\u001b[0m\u001b[0;34m=\u001b[0m\u001b[0;34m{\u001b[0m\u001b[0mX\u001b[0m\u001b[0;34m:\u001b[0m \u001b[0mX_new2\u001b[0m\u001b[0;34m}\u001b[0m\u001b[0;34m)\u001b[0m\u001b[0;34m\u001b[0m\u001b[0m\n\u001b[1;32m     17\u001b[0m \u001b[0;34m\u001b[0m\u001b[0m\n",
      "\u001b[0;31mNameError\u001b[0m: name 'sm_next_batch2' is not defined"
     ]
    }
   ],
   "source": [
    "\n",
    "n_iterations = 3000\n",
    "sm_batch_size = 50\n",
    "sm_n_steps = 120\n",
    "sm_test_n_steps =20\n",
    "\n",
    "with tf.Session() as sess:\n",
    "    init.run()\n",
    "    for iteration in range(n_iterations):\n",
    "        X_batch, y_batch = sm_next_batch(sm_batch_size, sm_n_steps)\n",
    "        sess.run(training_op, feed_dict={X: X_batch, y: y_batch})\n",
    "        if iteration % 100 == 0:\n",
    "            mse = loss.eval(feed_dict={X: X_batch, y: y_batch})\n",
    "            print(iteration, \"\\tMSE:\", mse)\n",
    "    X_new2, Y_new2 = sm_next_batch2(1, sm_n_steps)\n",
    "    y_pred2 = sess.run(outputs, feed_dict={X: X_new2})\n",
    "\n",
    "\n",
    "\n"
   ]
  },
  {
   "cell_type": "code",
   "execution_count": null,
   "metadata": {
    "collapsed": true
   },
   "outputs": [],
   "source": []
  }
 ],
 "metadata": {
  "kernelspec": {
   "display_name": "Python 3",
   "language": "python",
   "name": "python3"
  },
  "language_info": {
   "codemirror_mode": {
    "name": "ipython",
    "version": 3
   },
   "file_extension": ".py",
   "mimetype": "text/x-python",
   "name": "python",
   "nbconvert_exporter": "python",
   "pygments_lexer": "ipython3",
   "version": "3.6.0"
  }
 },
 "nbformat": 4,
 "nbformat_minor": 2
}
