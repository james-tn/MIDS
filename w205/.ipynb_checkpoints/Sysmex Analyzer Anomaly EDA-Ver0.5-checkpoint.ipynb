{
 "cells": [
  {
   "cell_type": "markdown",
   "metadata": {},
   "source": [
    "#  This document is the exploratory data analysis for problems of anomaly with some of Sysmex's analyzers"
   ]
  },
  {
   "cell_type": "markdown",
   "metadata": {},
   "source": [
    "## Part 1: Exploratory Data Analysis"
   ]
  },
  {
   "cell_type": "markdown",
   "metadata": {},
   "source": [
    "This part is to explore data, transform and understand the data provided by Sysmex"
   ]
  },
  {
   "cell_type": "code",
   "execution_count": 1,
   "metadata": {
    "collapsed": false
   },
   "outputs": [],
   "source": [
    "from __future__ import division, print_function, unicode_literals\n",
    "\n",
    "# Common imports\n",
    "import numpy as np\n",
    "import numpy.random as rnd\n",
    "import os\n",
    "import tensorflow as tf\n",
    "import pandas as pd\n",
    "from sklearn.model_selection import train_test_split \n",
    "\n",
    "# to make this notebook's output stable across runs\n",
    "rnd.seed(42)\n",
    "\n",
    "# To plot pretty figures\n",
    "%matplotlib inline\n",
    "import matplotlib\n",
    "import matplotlib.pyplot as plt\n",
    "plt.rcParams['axes.labelsize'] = 14\n",
    "plt.rcParams['xtick.labelsize'] = 12\n",
    "plt.rcParams['ytick.labelsize'] = 12\n",
    "\n",
    "# Where to save the figures\n",
    "PROJECT_ROOT_DIR = \".\"\n",
    "CHAPTER_ID = \"rnn\"\n",
    "\n",
    "def save_fig(fig_id, tight_layout=True):\n",
    "    path = os.path.join(PROJECT_ROOT_DIR, \"images\", CHAPTER_ID, fig_id + \".png\")\n",
    "    print(\"Saving figure\", fig_id)\n",
    "    if tight_layout:\n",
    "        plt.tight_layout()\n",
    "    plt.savefig(path, format='png', dpi=300)"
   ]
  },
  {
   "cell_type": "code",
   "execution_count": 2,
   "metadata": {
    "collapsed": false
   },
   "outputs": [],
   "source": [
    "qc_data = pd.read_csv('~/downloads/Specific QC Lot Number Results.csv', header =None)\n",
    "qc_data.columns =['product_id', 'qc_lot', 'time', 'w-x', 'w-y', 'w-z']\n",
    "machine_data = pd.read_excel('~/downloads/Reference Set A Result Set.xlsx')\n"
   ]
  },
  {
   "cell_type": "code",
   "execution_count": 3,
   "metadata": {
    "collapsed": false
   },
   "outputs": [],
   "source": [
    "machine_data.columns=['Prod_ID', 'Upgrade_Date', 'IPU_Ver', 'Ser_No', 'Model_ID']\n",
    "qc_data.columns =['Prod_ID', 'QC_Lot', 'QC_Time', 'W-X', 'W-Y', 'W-Z']\n",
    "\n",
    "\n",
    "\n"
   ]
  },
  {
   "cell_type": "code",
   "execution_count": 4,
   "metadata": {
    "collapsed": false
   },
   "outputs": [
    {
     "name": "stdout",
     "output_type": "stream",
     "text": [
      "number of products in machine data:                            3,376\n",
      "number of records in machine data:                             3,468\n",
      "number of products in QC data:                                 3,807\n",
      "number of records in QC data:                              2,435,412\n",
      "number of records in QC data with zero W-X data               18,127\n",
      "number of records in QC data with zero W-Y data               18,078\n",
      "number of records in QC data with zero W-Z data               18,090\n",
      "number of records in QC data with zero W-Z, W-Y, W-Z data     18,071\n"
     ]
    }
   ],
   "source": [
    "print('number of products in machine data: {:32,d}'.format(len(np.unique(machine_data['Prod_ID']))))\n",
    "print('number of records in machine data:  {:32,d}'.format( len((machine_data['Prod_ID']))))\n",
    "print('number of products in QC data:      {:32,d}'.format( len(np.unique(qc_data['Prod_ID']))))\n",
    "print('number of records in QC data:       {:32,d}'.format( len((qc_data['Prod_ID']))))\n",
    "\n",
    "print('number of records in QC data with zero W-X data {:20,d}'.format( np.sum((qc_data['W-X']==0))))\n",
    "print('number of records in QC data with zero W-Y data {:20,d}'.format(  np.sum((qc_data['W-Y']==0))))\n",
    "print('number of records in QC data with zero W-Z data {:20,d}'.format(  np.sum((qc_data['W-Z']==0))))\n",
    "\n",
    "print('number of records in QC data with zero W-Z, W-Y, W-Z data {:10,d}'.format(np.sum((qc_data['W-X']==0)&(qc_data['W-Y']==0)&(qc_data['W-Z']==0))))"
   ]
  },
  {
   "cell_type": "markdown",
   "metadata": {},
   "source": [
    "## Clean up data and create a joined dataset\n",
    "In this step, we clean out records where W-X, W-Y, W-Z are all zeros. Also, we temporarily remove historical of software upgrade for each product ID just to keep one record for one machine with the latest software version then merge with QC data to create consolidated machine_qc dataset for analysis purpose"
   ]
  },
  {
   "cell_type": "code",
   "execution_count": 5,
   "metadata": {
    "collapsed": false
   },
   "outputs": [
    {
     "name": "stderr",
     "output_type": "stream",
     "text": [
      "/Users/giang/anaconda3/lib/python3.6/site-packages/ipykernel/__main__.py:3: SettingWithCopyWarning: \n",
      "A value is trying to be set on a copy of a slice from a DataFrame.\n",
      "Try using .loc[row_indexer,col_indexer] = value instead\n",
      "\n",
      "See the caveats in the documentation: http://pandas.pydata.org/pandas-docs/stable/indexing.html#indexing-view-versus-copy\n",
      "  app.launch_new_instance()\n",
      "/Users/giang/anaconda3/lib/python3.6/site-packages/ipykernel/__main__.py:5: SettingWithCopyWarning: \n",
      "A value is trying to be set on a copy of a slice from a DataFrame.\n",
      "Try using .loc[row_indexer,col_indexer] = value instead\n",
      "\n",
      "See the caveats in the documentation: http://pandas.pydata.org/pandas-docs/stable/indexing.html#indexing-view-versus-copy\n"
     ]
    },
    {
     "name": "stdout",
     "output_type": "stream",
     "text": [
      "number of records for clean QC data:                              2,417,282\n",
      "number of records for unique machine data:                            3,376\n",
      "number of records in consol data set                              2,417,282\n"
     ]
    }
   ],
   "source": [
    "clean_qc_data = qc_data[((qc_data['W-X']!=0)&(qc_data['W-Y']!=0)&(qc_data['W-Z']!=0))]\n",
    "machine_data = machine_data.sort_values(by =['Prod_ID', 'Upgrade_Date'], ascending = [True, True])\n",
    "clean_qc_data['Prod_ID'] = clean_qc_data['Prod_ID'].astype(str)\n",
    "\n",
    "clean_qc_data['QC_Time'] = pd.to_datetime(clean_qc_data['QC_Time'])\n",
    "\n",
    "machine_data['Prod_ID'] = machine_data['Prod_ID'].astype(str)\n",
    "\n",
    "machine_data['Upgrade_Date'] = pd.to_datetime(machine_data['Upgrade_Date'])\n",
    "\n",
    "\n",
    "unique_machine_data=machine_data.drop_duplicates(subset='Prod_ID', keep ='first')\n",
    "qc_machine_data = pd.merge(clean_qc_data, unique_machine_data, how ='left')\n",
    "\n",
    "\n",
    "\n",
    "\n",
    "print('number of records for clean QC data:       {:32,d}'.format(len(clean_qc_data['Prod_ID'])))\n",
    "print('number of records for unique machine data: {:32,d}'.format(len(unique_machine_data['Prod_ID'])))\n",
    "print('number of records in consol data set       {:32,d}'.format(len(qc_machine_data['Prod_ID'])))"
   ]
  },
  {
   "cell_type": "markdown",
   "metadata": {},
   "source": [
    "There're records with null values due to missing master machine records"
   ]
  },
  {
   "cell_type": "code",
   "execution_count": 6,
   "metadata": {
    "collapsed": false
   },
   "outputs": [
    {
     "data": {
      "text/plain": [
       "Prod_ID              0\n",
       "QC_Lot               0\n",
       "QC_Time              0\n",
       "W-X                  0\n",
       "W-Y                  0\n",
       "W-Z                  0\n",
       "Upgrade_Date    217957\n",
       "IPU_Ver         217957\n",
       "Ser_No          217957\n",
       "Model_ID        217957\n",
       "dtype: int64"
      ]
     },
     "execution_count": 6,
     "metadata": {},
     "output_type": "execute_result"
    }
   ],
   "source": [
    "np.sum(qc_machine_data.isnull())"
   ]
  },
  {
   "cell_type": "code",
   "execution_count": 7,
   "metadata": {
    "collapsed": false
   },
   "outputs": [],
   "source": [
    "qc_machine_data=qc_machine_data.dropna()\n",
    "qc_machine_data = qc_machine_data.sort_values(['QC_Lot', 'Prod_ID','QC_Time'], ascending = [True, True, True])\n"
   ]
  },
  {
   "cell_type": "code",
   "execution_count": 8,
   "metadata": {
    "collapsed": false
   },
   "outputs": [],
   "source": [
    "\n",
    "\n",
    "transformed_qc_machine_data = qc_machine_data[['QC_Lot', 'W-X', 'W-Y', 'W-Z', 'IPU_Ver', 'Model_ID']]\n",
    "transformed_qc_machine_data = pd.get_dummies(transformed_qc_machine_data, columns =['IPU_Ver', 'Model_ID', 'QC_Lot']).values\n"
   ]
  },
  {
   "cell_type": "code",
   "execution_count": 11,
   "metadata": {
    "collapsed": false
   },
   "outputs": [],
   "source": [
    "train_data = transformed_qc_machine_data[0:800000]\n",
    "test_data = transformed_qc_machine_data[800000:]"
   ]
  },
  {
   "cell_type": "code",
   "execution_count": 10,
   "metadata": {
    "collapsed": false,
    "scrolled": true
   },
   "outputs": [
    {
     "ename": "KeyboardInterrupt",
     "evalue": "",
     "output_type": "error",
     "traceback": [
      "\u001b[0;31m---------------------------------------------------------------------------\u001b[0m",
      "\u001b[0;31mKeyboardInterrupt\u001b[0m                         Traceback (most recent call last)",
      "\u001b[0;32m<ipython-input-10-6b9b1a7572bf>\u001b[0m in \u001b[0;36m<module>\u001b[0;34m()\u001b[0m\n\u001b[1;32m     32\u001b[0m     \u001b[0mprod_id\u001b[0m \u001b[0;34m=\u001b[0m \u001b[0mqc_machine_data\u001b[0m\u001b[0;34m[\u001b[0m\u001b[0;34m'Prod_ID'\u001b[0m\u001b[0;34m]\u001b[0m\u001b[0;34m.\u001b[0m\u001b[0miloc\u001b[0m\u001b[0;34m[\u001b[0m\u001b[0mi\u001b[0m\u001b[0;34m]\u001b[0m\u001b[0;34m\u001b[0m\u001b[0m\n\u001b[1;32m     33\u001b[0m     \u001b[0mtran_date\u001b[0m \u001b[0;34m=\u001b[0m \u001b[0mqc_machine_data\u001b[0m\u001b[0;34m.\u001b[0m\u001b[0mQC_Time\u001b[0m\u001b[0;34m.\u001b[0m\u001b[0miloc\u001b[0m\u001b[0;34m[\u001b[0m\u001b[0mi\u001b[0m\u001b[0;34m]\u001b[0m\u001b[0;34m\u001b[0m\u001b[0m\n\u001b[0;32m---> 34\u001b[0;31m     \u001b[0mIPU_Ver\u001b[0m\u001b[0;34m.\u001b[0m\u001b[0mappend\u001b[0m\u001b[0;34m(\u001b[0m\u001b[0mget_IPU_Ver\u001b[0m\u001b[0;34m(\u001b[0m\u001b[0mprod_id\u001b[0m\u001b[0;34m,\u001b[0m \u001b[0mtran_date\u001b[0m\u001b[0;34m)\u001b[0m\u001b[0;34m)\u001b[0m\u001b[0;34m\u001b[0m\u001b[0m\n\u001b[0m\u001b[1;32m     35\u001b[0m \u001b[0;34m\u001b[0m\u001b[0m\n\u001b[1;32m     36\u001b[0m \u001b[0mqc_machine_data\u001b[0m\u001b[0;34m[\u001b[0m\u001b[0;34m'IPU_Ver'\u001b[0m\u001b[0;34m]\u001b[0m \u001b[0;34m=\u001b[0m \u001b[0mIPU_Ver\u001b[0m\u001b[0;34m\u001b[0m\u001b[0m\n",
      "\u001b[0;32m<ipython-input-10-6b9b1a7572bf>\u001b[0m in \u001b[0;36mget_IPU_Ver\u001b[0;34m(prod_id, tran_date)\u001b[0m\n\u001b[1;32m     11\u001b[0m \u001b[0;34m\u001b[0m\u001b[0m\n\u001b[1;32m     12\u001b[0m \u001b[0;32mdef\u001b[0m \u001b[0mget_IPU_Ver\u001b[0m\u001b[0;34m(\u001b[0m\u001b[0mprod_id\u001b[0m\u001b[0;34m,\u001b[0m \u001b[0mtran_date\u001b[0m\u001b[0;34m)\u001b[0m\u001b[0;34m:\u001b[0m\u001b[0;34m\u001b[0m\u001b[0m\n\u001b[0;32m---> 13\u001b[0;31m     \u001b[0mmachine_mini_list\u001b[0m \u001b[0;34m=\u001b[0m \u001b[0mmachine_data\u001b[0m\u001b[0;34m[\u001b[0m\u001b[0mmachine_data\u001b[0m\u001b[0;34m[\u001b[0m\u001b[0;34m'Prod_ID'\u001b[0m\u001b[0;34m]\u001b[0m \u001b[0;34m==\u001b[0m \u001b[0mprod_id\u001b[0m\u001b[0;34m]\u001b[0m\u001b[0;34m\u001b[0m\u001b[0m\n\u001b[0m\u001b[1;32m     14\u001b[0m     \u001b[0mt\u001b[0m \u001b[0;34m=\u001b[0m \u001b[0mmachine_mini_list\u001b[0m\u001b[0;34m.\u001b[0m\u001b[0mshape\u001b[0m\u001b[0;34m[\u001b[0m\u001b[0;36m0\u001b[0m\u001b[0;34m]\u001b[0m\u001b[0;34m\u001b[0m\u001b[0m\n\u001b[1;32m     15\u001b[0m     \u001b[0;32mif\u001b[0m \u001b[0mt\u001b[0m \u001b[0;34m==\u001b[0m\u001b[0;36m0\u001b[0m\u001b[0;34m:\u001b[0m \u001b[0;32mreturn\u001b[0m \u001b[0;32mNone\u001b[0m\u001b[0;34m\u001b[0m\u001b[0m\n",
      "\u001b[0;32m/Users/giang/anaconda3/lib/python3.6/site-packages/pandas/core/frame.py\u001b[0m in \u001b[0;36m__getitem__\u001b[0;34m(self, key)\u001b[0m\n\u001b[1;32m   2051\u001b[0m         \u001b[0;32mif\u001b[0m \u001b[0misinstance\u001b[0m\u001b[0;34m(\u001b[0m\u001b[0mkey\u001b[0m\u001b[0;34m,\u001b[0m \u001b[0;34m(\u001b[0m\u001b[0mSeries\u001b[0m\u001b[0;34m,\u001b[0m \u001b[0mnp\u001b[0m\u001b[0;34m.\u001b[0m\u001b[0mndarray\u001b[0m\u001b[0;34m,\u001b[0m \u001b[0mIndex\u001b[0m\u001b[0;34m,\u001b[0m \u001b[0mlist\u001b[0m\u001b[0;34m)\u001b[0m\u001b[0;34m)\u001b[0m\u001b[0;34m:\u001b[0m\u001b[0;34m\u001b[0m\u001b[0m\n\u001b[1;32m   2052\u001b[0m             \u001b[0;31m# either boolean or fancy integer index\u001b[0m\u001b[0;34m\u001b[0m\u001b[0;34m\u001b[0m\u001b[0m\n\u001b[0;32m-> 2053\u001b[0;31m             \u001b[0;32mreturn\u001b[0m \u001b[0mself\u001b[0m\u001b[0;34m.\u001b[0m\u001b[0m_getitem_array\u001b[0m\u001b[0;34m(\u001b[0m\u001b[0mkey\u001b[0m\u001b[0;34m)\u001b[0m\u001b[0;34m\u001b[0m\u001b[0m\n\u001b[0m\u001b[1;32m   2054\u001b[0m         \u001b[0;32melif\u001b[0m \u001b[0misinstance\u001b[0m\u001b[0;34m(\u001b[0m\u001b[0mkey\u001b[0m\u001b[0;34m,\u001b[0m \u001b[0mDataFrame\u001b[0m\u001b[0;34m)\u001b[0m\u001b[0;34m:\u001b[0m\u001b[0;34m\u001b[0m\u001b[0m\n\u001b[1;32m   2055\u001b[0m             \u001b[0;32mreturn\u001b[0m \u001b[0mself\u001b[0m\u001b[0;34m.\u001b[0m\u001b[0m_getitem_frame\u001b[0m\u001b[0;34m(\u001b[0m\u001b[0mkey\u001b[0m\u001b[0;34m)\u001b[0m\u001b[0;34m\u001b[0m\u001b[0m\n",
      "\u001b[0;32m/Users/giang/anaconda3/lib/python3.6/site-packages/pandas/core/frame.py\u001b[0m in \u001b[0;36m_getitem_array\u001b[0;34m(self, key)\u001b[0m\n\u001b[1;32m   2093\u001b[0m             \u001b[0mkey\u001b[0m \u001b[0;34m=\u001b[0m \u001b[0mcheck_bool_indexer\u001b[0m\u001b[0;34m(\u001b[0m\u001b[0mself\u001b[0m\u001b[0;34m.\u001b[0m\u001b[0mindex\u001b[0m\u001b[0;34m,\u001b[0m \u001b[0mkey\u001b[0m\u001b[0;34m)\u001b[0m\u001b[0;34m\u001b[0m\u001b[0m\n\u001b[1;32m   2094\u001b[0m             \u001b[0mindexer\u001b[0m \u001b[0;34m=\u001b[0m \u001b[0mkey\u001b[0m\u001b[0;34m.\u001b[0m\u001b[0mnonzero\u001b[0m\u001b[0;34m(\u001b[0m\u001b[0;34m)\u001b[0m\u001b[0;34m[\u001b[0m\u001b[0;36m0\u001b[0m\u001b[0;34m]\u001b[0m\u001b[0;34m\u001b[0m\u001b[0m\n\u001b[0;32m-> 2095\u001b[0;31m             \u001b[0;32mreturn\u001b[0m \u001b[0mself\u001b[0m\u001b[0;34m.\u001b[0m\u001b[0mtake\u001b[0m\u001b[0;34m(\u001b[0m\u001b[0mindexer\u001b[0m\u001b[0;34m,\u001b[0m \u001b[0maxis\u001b[0m\u001b[0;34m=\u001b[0m\u001b[0;36m0\u001b[0m\u001b[0;34m,\u001b[0m \u001b[0mconvert\u001b[0m\u001b[0;34m=\u001b[0m\u001b[0;32mFalse\u001b[0m\u001b[0;34m)\u001b[0m\u001b[0;34m\u001b[0m\u001b[0m\n\u001b[0m\u001b[1;32m   2096\u001b[0m         \u001b[0;32melse\u001b[0m\u001b[0;34m:\u001b[0m\u001b[0;34m\u001b[0m\u001b[0m\n\u001b[1;32m   2097\u001b[0m             \u001b[0mindexer\u001b[0m \u001b[0;34m=\u001b[0m \u001b[0mself\u001b[0m\u001b[0;34m.\u001b[0m\u001b[0mix\u001b[0m\u001b[0;34m.\u001b[0m\u001b[0m_convert_to_indexer\u001b[0m\u001b[0;34m(\u001b[0m\u001b[0mkey\u001b[0m\u001b[0;34m,\u001b[0m \u001b[0maxis\u001b[0m\u001b[0;34m=\u001b[0m\u001b[0;36m1\u001b[0m\u001b[0;34m)\u001b[0m\u001b[0;34m\u001b[0m\u001b[0m\n",
      "\u001b[0;32m/Users/giang/anaconda3/lib/python3.6/site-packages/pandas/core/generic.py\u001b[0m in \u001b[0;36mtake\u001b[0;34m(self, indices, axis, convert, is_copy, **kwargs)\u001b[0m\n\u001b[1;32m   1667\u001b[0m         new_data = self._data.take(indices,\n\u001b[1;32m   1668\u001b[0m                                    \u001b[0maxis\u001b[0m\u001b[0;34m=\u001b[0m\u001b[0mself\u001b[0m\u001b[0;34m.\u001b[0m\u001b[0m_get_block_manager_axis\u001b[0m\u001b[0;34m(\u001b[0m\u001b[0maxis\u001b[0m\u001b[0;34m)\u001b[0m\u001b[0;34m,\u001b[0m\u001b[0;34m\u001b[0m\u001b[0m\n\u001b[0;32m-> 1669\u001b[0;31m                                    convert=True, verify=True)\n\u001b[0m\u001b[1;32m   1670\u001b[0m         \u001b[0mresult\u001b[0m \u001b[0;34m=\u001b[0m \u001b[0mself\u001b[0m\u001b[0;34m.\u001b[0m\u001b[0m_constructor\u001b[0m\u001b[0;34m(\u001b[0m\u001b[0mnew_data\u001b[0m\u001b[0;34m)\u001b[0m\u001b[0;34m.\u001b[0m\u001b[0m__finalize__\u001b[0m\u001b[0;34m(\u001b[0m\u001b[0mself\u001b[0m\u001b[0;34m)\u001b[0m\u001b[0;34m\u001b[0m\u001b[0m\n\u001b[1;32m   1671\u001b[0m \u001b[0;34m\u001b[0m\u001b[0m\n",
      "\u001b[0;32m/Users/giang/anaconda3/lib/python3.6/site-packages/pandas/core/internals.py\u001b[0m in \u001b[0;36mtake\u001b[0;34m(self, indexer, axis, verify, convert)\u001b[0m\n\u001b[1;32m   3953\u001b[0m         \u001b[0mn\u001b[0m \u001b[0;34m=\u001b[0m \u001b[0mself\u001b[0m\u001b[0;34m.\u001b[0m\u001b[0mshape\u001b[0m\u001b[0;34m[\u001b[0m\u001b[0maxis\u001b[0m\u001b[0;34m]\u001b[0m\u001b[0;34m\u001b[0m\u001b[0m\n\u001b[1;32m   3954\u001b[0m         \u001b[0;32mif\u001b[0m \u001b[0mconvert\u001b[0m\u001b[0;34m:\u001b[0m\u001b[0;34m\u001b[0m\u001b[0m\n\u001b[0;32m-> 3955\u001b[0;31m             \u001b[0mindexer\u001b[0m \u001b[0;34m=\u001b[0m \u001b[0mmaybe_convert_indices\u001b[0m\u001b[0;34m(\u001b[0m\u001b[0mindexer\u001b[0m\u001b[0;34m,\u001b[0m \u001b[0mn\u001b[0m\u001b[0;34m)\u001b[0m\u001b[0;34m\u001b[0m\u001b[0m\n\u001b[0m\u001b[1;32m   3956\u001b[0m \u001b[0;34m\u001b[0m\u001b[0m\n\u001b[1;32m   3957\u001b[0m         \u001b[0;32mif\u001b[0m \u001b[0mverify\u001b[0m\u001b[0;34m:\u001b[0m\u001b[0;34m\u001b[0m\u001b[0m\n",
      "\u001b[0;32m/Users/giang/anaconda3/lib/python3.6/site-packages/pandas/core/indexing.py\u001b[0m in \u001b[0;36mmaybe_convert_indices\u001b[0;34m(indices, n)\u001b[0m\n\u001b[1;32m   1866\u001b[0m             \u001b[0;32mreturn\u001b[0m \u001b[0mnp\u001b[0m\u001b[0;34m.\u001b[0m\u001b[0mempty\u001b[0m\u001b[0;34m(\u001b[0m\u001b[0;36m0\u001b[0m\u001b[0;34m,\u001b[0m \u001b[0mdtype\u001b[0m\u001b[0;34m=\u001b[0m\u001b[0mnp\u001b[0m\u001b[0;34m.\u001b[0m\u001b[0mint_\u001b[0m\u001b[0;34m)\u001b[0m\u001b[0;34m\u001b[0m\u001b[0m\n\u001b[1;32m   1867\u001b[0m \u001b[0;34m\u001b[0m\u001b[0m\n\u001b[0;32m-> 1868\u001b[0;31m     \u001b[0mmask\u001b[0m \u001b[0;34m=\u001b[0m \u001b[0mindices\u001b[0m \u001b[0;34m<\u001b[0m \u001b[0;36m0\u001b[0m\u001b[0;34m\u001b[0m\u001b[0m\n\u001b[0m\u001b[1;32m   1869\u001b[0m     \u001b[0;32mif\u001b[0m \u001b[0mmask\u001b[0m\u001b[0;34m.\u001b[0m\u001b[0many\u001b[0m\u001b[0;34m(\u001b[0m\u001b[0;34m)\u001b[0m\u001b[0;34m:\u001b[0m\u001b[0;34m\u001b[0m\u001b[0m\n\u001b[1;32m   1870\u001b[0m         \u001b[0mindices\u001b[0m\u001b[0;34m[\u001b[0m\u001b[0mmask\u001b[0m\u001b[0;34m]\u001b[0m \u001b[0;34m+=\u001b[0m \u001b[0mn\u001b[0m\u001b[0;34m\u001b[0m\u001b[0m\n",
      "\u001b[0;31mKeyboardInterrupt\u001b[0m: "
     ]
    }
   ],
   "source": [
    "## Function to return a list of products that has more than one IPU versions\n",
    "# def get_multi_IPU():\n",
    "#     multi_ipu_machine = pd.DataFrame(columns = machine_data.columns)\n",
    "#     Unique_Prod_ID = np.unique(machine_data.Prod_ID)\n",
    "#     for prod_id in Unique_Prod_ID:\n",
    "#         k = machine_data[machine_data.Prod_ID ==prod_id]\n",
    "#         if k.shape[0]>1:\n",
    "#             multi_ipu_machine = multi_ipu_machine.append(k)\n",
    "#     multi_ipu_machine.sort_values(['Prod_ID', 'Upgrade_Date'], ascending = [False, False])\n",
    "#     return multi_ipu_machine\n",
    "\n",
    "def get_IPU_Ver(prod_id, tran_date):\n",
    "    machine_mini_list = machine_data[machine_data['Prod_ID'] == prod_id]\n",
    "    t = machine_mini_list.shape[0]\n",
    "    if t ==0: return None\n",
    "    k=0\n",
    "#     print(machine_mini_list.shape)\n",
    "#     print('hello')\n",
    "    for i in range(t):\n",
    "#         print('before print date')\n",
    "#         print('date is', machine_mini_list.values[i,1])\n",
    "        if machine_mini_list.Upgrade_Date.iloc[i] < tran_date: k=i\n",
    "    \n",
    "    return machine_mini_list.IPU_Ver.iloc[k]\n",
    "\n",
    "#get_IPU_Ver('125862',pd.to_datetime('2017-01-19'))\n",
    "qc_machine_data.head()\n",
    "\n",
    "\n",
    "IPU_Ver =[]\n",
    "for i in range(qc_machine_data.shape[0]):\n",
    "    prod_id = qc_machine_data['Prod_ID'].iloc[i]\n",
    "    tran_date = qc_machine_data.QC_Time.iloc[i] \n",
    "    IPU_Ver.append(get_IPU_Ver(prod_id, tran_date))\n",
    "\n",
    "qc_machine_data['IPU_Ver'] = IPU_Ver\n",
    "    \n",
    "# print(prod_id)"
   ]
  },
  {
   "cell_type": "code",
   "execution_count": 12,
   "metadata": {
    "collapsed": false
   },
   "outputs": [
    {
     "data": {
      "text/html": [
       "<div>\n",
       "<table border=\"1\" class=\"dataframe\">\n",
       "  <thead>\n",
       "    <tr style=\"text-align: right;\">\n",
       "      <th></th>\n",
       "      <th>Prod_ID</th>\n",
       "      <th>QC_Lot</th>\n",
       "      <th>IPU_Ver</th>\n",
       "      <th>Ser_No</th>\n",
       "      <th>Model_ID</th>\n",
       "    </tr>\n",
       "  </thead>\n",
       "  <tbody>\n",
       "    <tr>\n",
       "      <th>count</th>\n",
       "      <td>2199325</td>\n",
       "      <td>2199325</td>\n",
       "      <td>2199325</td>\n",
       "      <td>2199325</td>\n",
       "      <td>2199325</td>\n",
       "    </tr>\n",
       "    <tr>\n",
       "      <th>unique</th>\n",
       "      <td>3321</td>\n",
       "      <td>23</td>\n",
       "      <td>10</td>\n",
       "      <td>3319</td>\n",
       "      <td>4</td>\n",
       "    </tr>\n",
       "    <tr>\n",
       "      <th>top</th>\n",
       "      <td>155786</td>\n",
       "      <td>QC-70371102</td>\n",
       "      <td>00-16 (Build 7)</td>\n",
       "      <td>21709</td>\n",
       "      <td>XN-10</td>\n",
       "    </tr>\n",
       "    <tr>\n",
       "      <th>freq</th>\n",
       "      <td>2148</td>\n",
       "      <td>190338</td>\n",
       "      <td>1948948</td>\n",
       "      <td>2148</td>\n",
       "      <td>2119867</td>\n",
       "    </tr>\n",
       "  </tbody>\n",
       "</table>\n",
       "</div>"
      ],
      "text/plain": [
       "        Prod_ID       QC_Lot          IPU_Ver   Ser_No Model_ID\n",
       "count   2199325      2199325          2199325  2199325  2199325\n",
       "unique     3321           23               10     3319        4\n",
       "top      155786  QC-70371102  00-16 (Build 7)    21709    XN-10\n",
       "freq       2148       190338          1948948     2148  2119867"
      ]
     },
     "execution_count": 12,
     "metadata": {},
     "output_type": "execute_result"
    }
   ],
   "source": [
    "qc_machine_data.describe(include =['O'])"
   ]
  },
  {
   "cell_type": "code",
   "execution_count": 14,
   "metadata": {
    "collapsed": false
   },
   "outputs": [
    {
     "data": {
      "text/plain": [
       "array([1754, 1217, 1251,    0,    0,    0,    0,    0,    0,    0,    1,\n",
       "          0,    0,    0,    0,    1,    0,    1,    0,    0,    0,    0,\n",
       "          0,    0,    0,    0,    0,    0,    0,    0,    0,    0,    0,\n",
       "          0,    0,    0,    0,    0,    0,    0])"
      ]
     },
     "execution_count": 14,
     "metadata": {},
     "output_type": "execute_result"
    }
   ],
   "source": []
  },
  {
   "cell_type": "code",
   "execution_count": null,
   "metadata": {
    "collapsed": false
   },
   "outputs": [],
   "source": [
    "qc_machine_data[qc_machine_data.Prod_ID =='125862']"
   ]
  },
  {
   "cell_type": "code",
   "execution_count": null,
   "metadata": {
    "collapsed": false
   },
   "outputs": [],
   "source": [
    "qc_machine_data[['Upgrade_Date', 'QC_Time']].dropna().describe()"
   ]
  },
  {
   "cell_type": "code",
   "execution_count": null,
   "metadata": {
    "collapsed": false
   },
   "outputs": [],
   "source": [
    "qc_machine_data['IPU_Ver'].value_counts()"
   ]
  },
  {
   "cell_type": "code",
   "execution_count": null,
   "metadata": {
    "collapsed": false
   },
   "outputs": [],
   "source": [
    "qc_machine_data.groupby('IPU_Ver')['Prod_ID'].describe().unstack()"
   ]
  },
  {
   "cell_type": "code",
   "execution_count": null,
   "metadata": {
    "collapsed": false
   },
   "outputs": [],
   "source": [
    "def count_unique(x):\n",
    "    np_arr = x.values\n",
    "    output = []\n",
    "    for i in range(np_arr.shape[1]):\n",
    "        output.append(len(np.unique(np_arr[:,i])))\n",
    "    return  pd.DataFrame(np.array(output).reshape(-1,len(x.columns)), columns = x.columns)\n",
    "\n",
    "qc_machine_data.groupby(['IPU_Ver', 'QC_Lot'])['Prod_ID', 'Model_ID'].apply(count_unique)"
   ]
  },
  {
   "cell_type": "code",
   "execution_count": null,
   "metadata": {
    "collapsed": false
   },
   "outputs": [],
   "source": [
    "np.corrcoef(qc_machine_data[qc_machine_data.Prod_ID == '155786']['W-X'],qc_machine_data[qc_machine_data.Prod_ID == '155786']['W-Y']) "
   ]
  },
  {
   "cell_type": "code",
   "execution_count": 179,
   "metadata": {
    "collapsed": false
   },
   "outputs": [],
   "source": [
    "import random as rd\n",
    "max_ind = train_data.shape[0]\n",
    "def sm_next_batch(batch_size, n_steps):\n",
    "    X = []\n",
    "    Y = []\n",
    "    for i in range(batch_size):\n",
    "        start = rd.randint(0, max_ind-n_steps-1)\n",
    "        ys1 = train_data[start: start+n_steps]\n",
    "        ys2 = train_data[start+1: start+n_steps+1,0:3]\n",
    "        X.append(ys1)\n",
    "        Y.append(ys2)\n",
    "    X = np.array(X).reshape(-1, n_steps, 40)\n",
    "    Y = np.array(Y).reshape(-1, n_steps, 3)\n",
    "    \n",
    "    return X, Y \n",
    "   \n",
    "\n",
    "max_test_ind = test_data.shape[0]\n",
    "def sm_test_next_batch(batch_size, n_steps):\n",
    "    X = []\n",
    "    Y = []\n",
    "    for i in range(batch_size):\n",
    "        start = rd.randint(0, max_test_ind-n_steps-1)\n",
    "        ys1 = test_data[start: start+n_steps]\n",
    "        ys2 = test_data[start+1: start+n_steps+1,0:3]\n",
    "        X.append(ys1)\n",
    "        Y.append(ys2)\n",
    "    X = np.array(X).reshape(-1, n_steps, 40)\n",
    "    Y = np.array(Y).reshape(-1, n_steps, 3)\n",
    "    \n",
    "    return X, Y \n",
    "   "
   ]
  },
  {
   "cell_type": "code",
   "execution_count": 183,
   "metadata": {
    "collapsed": false
   },
   "outputs": [],
   "source": [
    "tf.reset_default_graph()\n",
    "\n",
    "n_steps = 120\n",
    "n_inputs = 40\n",
    "n_neurons = 100\n",
    "n_outputs = 3\n",
    "learning_rate = 0.001\n",
    "\n",
    "\n",
    "\n",
    "X = tf.placeholder(tf.float32, [None, n_steps, n_inputs])\n",
    "y = tf.placeholder(tf.float32, [None, n_steps, n_outputs])\n",
    "\n",
    "cell = tf.contrib.rnn.OutputProjectionWrapper(\n",
    "    tf.contrib.rnn.BasicRNNCell(num_units=n_neurons, activation=tf.nn.relu),\n",
    "    output_size=n_outputs)\n",
    "outputs, states = tf.nn.dynamic_rnn(cell, X, dtype=tf.float32)\n",
    "\n",
    "\n",
    "loss = tf.reduce_sum(tf.square(outputs - y))\n",
    "optimizer = tf.train.AdamOptimizer(learning_rate=learning_rate)\n",
    "training_op = optimizer.minimize(loss)\n",
    "\n",
    "init = tf.global_variables_initializer()"
   ]
  },
  {
   "cell_type": "code",
   "execution_count": 184,
   "metadata": {
    "collapsed": false
   },
   "outputs": [
    {
     "name": "stdout",
     "output_type": "stream",
     "text": [
      "0 \tMSE: 4.62856e+10\n",
      "100 \tMSE: 1.63291e+08\n",
      "200 \tMSE: 5.93443e+07\n",
      "300 \tMSE: 2.71701e+07\n",
      "400 \tMSE: 1.99118e+07\n",
      "500 \tMSE: 9.12918e+06\n",
      "600 \tMSE: 1.43825e+07\n",
      "700 \tMSE: 8.70096e+06\n",
      "800 \tMSE: 1.01787e+07\n",
      "900 \tMSE: 8.05317e+06\n",
      "1000 \tMSE: 1.05694e+07\n",
      "1100 \tMSE: 1.41414e+07\n",
      "1200 \tMSE: 1.24317e+07\n",
      "1300 \tMSE: 1.30917e+07\n",
      "1400 \tMSE: 1.32032e+07\n",
      "1500 \tMSE: 9.31973e+06\n",
      "1600 \tMSE: 8.97308e+06\n",
      "1700 \tMSE: 1.06315e+07\n",
      "1800 \tMSE: 1.15313e+07\n",
      "1900 \tMSE: 1.34945e+07\n",
      "2000 \tMSE: 9.66911e+06\n",
      "2100 \tMSE: 9.79228e+06\n",
      "2200 \tMSE: 7.82246e+06\n",
      "2300 \tMSE: 8.352e+06\n",
      "2400 \tMSE: 6.85413e+06\n",
      "2500 \tMSE: 6.9622e+06\n",
      "2600 \tMSE: 9.86256e+06\n",
      "2700 \tMSE: 7.45174e+06\n",
      "2800 \tMSE: 6.82735e+06\n",
      "2900 \tMSE: 1.04397e+07\n"
     ]
    }
   ],
   "source": [
    "n_iterations = 3000\n",
    "sm_batch_size = 50\n",
    "sm_n_steps = 120\n",
    "sm_test_n_steps =20\n",
    "\n",
    "with tf.Session() as sess:\n",
    "    init.run()\n",
    "    for iteration in range(n_iterations):\n",
    "        X_batch, y_batch = sm_next_batch(sm_batch_size, sm_n_steps)\n",
    "        sess.run(training_op, feed_dict={X: X_batch, y: y_batch})\n",
    "        if iteration % 100 == 0:\n",
    "            mse = loss.eval(feed_dict={X: X_batch, y: y_batch})\n",
    "            print(iteration, \"\\tMSE:\", mse)\n",
    "    \n",
    "    X_test, Y_test = sm_test_next_batch(2, sm_n_steps)\n",
    "    y_pred = sess.run(outputs, feed_dict={X: X_test})\n"
   ]
  },
  {
   "cell_type": "code",
   "execution_count": 213,
   "metadata": {
    "collapsed": false
   },
   "outputs": [
    {
     "data": {
      "text/plain": [
       "<matplotlib.text.Text at 0x143b03ac8>"
      ]
     },
     "execution_count": 213,
     "metadata": {},
     "output_type": "execute_result"
    },
    {
     "data": {
      "image/png": "[encoded data removed]",
      "text/plain": [
       "<matplotlib.figure.Figure at 0x143b9a320>"
      ]
     },
     "metadata": {},
     "output_type": "display_data"
    }
   ],
   "source": [
    "test_size=100\n",
    "\n",
    "plt.plot(np.arange(1,test_size+1,1), Y_test[0][0:test_size,0],  markersize=10, label=\"target\")\n",
    "plt.plot(np.arange(1,test_size+1,1), y_pred[0][0:test_size,0],  markersize=10, label=\"prediction\")\n",
    "plt.legend(loc=\"upper left\")\n",
    "plt.xlabel(\"Time\")\n",
    "\n",
    "\n"
   ]
  },
  {
   "cell_type": "code",
   "execution_count": 208,
   "metadata": {
    "collapsed": false
   },
   "outputs": [
    {
     "ename": "TypeError",
     "evalue": "'str' object is not callable",
     "output_type": "error",
     "traceback": [
      "\u001b[0;31m---------------------------------------------------------------------------\u001b[0m",
      "\u001b[0;31mTypeError\u001b[0m                                 Traceback (most recent call last)",
      "\u001b[0;32m<ipython-input-208-072993863a10>\u001b[0m in \u001b[0;36m<module>\u001b[0;34m()\u001b[0m\n\u001b[1;32m      1\u001b[0m \u001b[0mtest_size\u001b[0m\u001b[0;34m=\u001b[0m\u001b[0;36m60\u001b[0m\u001b[0;34m\u001b[0m\u001b[0m\n\u001b[1;32m      2\u001b[0m \u001b[0mplt\u001b[0m\u001b[0;34m.\u001b[0m\u001b[0mclose\u001b[0m\u001b[0;34m(\u001b[0m\u001b[0;34m)\u001b[0m\u001b[0;34m\u001b[0m\u001b[0m\n\u001b[0;32m----> 3\u001b[0;31m \u001b[0mplt\u001b[0m\u001b[0;34m.\u001b[0m\u001b[0mtitle\u001b[0m\u001b[0;34m(\u001b[0m\u001b[0;34m\"Testing the model Y\"\u001b[0m\u001b[0;34m,\u001b[0m \u001b[0mfontsize\u001b[0m\u001b[0;34m=\u001b[0m\u001b[0;36m14\u001b[0m\u001b[0;34m)\u001b[0m\u001b[0;34m\u001b[0m\u001b[0m\n\u001b[0m\u001b[1;32m      4\u001b[0m \u001b[0mplt\u001b[0m\u001b[0;34m.\u001b[0m\u001b[0mplot\u001b[0m\u001b[0;34m(\u001b[0m\u001b[0mnp\u001b[0m\u001b[0;34m.\u001b[0m\u001b[0marange\u001b[0m\u001b[0;34m(\u001b[0m\u001b[0;36m0\u001b[0m\u001b[0;34m,\u001b[0m\u001b[0mtest_size\u001b[0m\u001b[0;34m,\u001b[0m\u001b[0;36m1\u001b[0m\u001b[0;34m)\u001b[0m\u001b[0;34m,\u001b[0m \u001b[0mX_test\u001b[0m\u001b[0;34m[\u001b[0m\u001b[0;36m0\u001b[0m\u001b[0;34m,\u001b[0m\u001b[0;36m0\u001b[0m\u001b[0;34m:\u001b[0m\u001b[0mtest_size\u001b[0m\u001b[0;34m,\u001b[0m\u001b[0;36m0\u001b[0m\u001b[0;34m]\u001b[0m\u001b[0;34m,\u001b[0m \u001b[0;34m\"bo\"\u001b[0m\u001b[0;34m,\u001b[0m \u001b[0mmarkersize\u001b[0m\u001b[0;34m=\u001b[0m\u001b[0;36m10\u001b[0m\u001b[0;34m,\u001b[0m \u001b[0mlabel\u001b[0m\u001b[0;34m=\u001b[0m\u001b[0;34m\"instance\"\u001b[0m\u001b[0;34m)\u001b[0m\u001b[0;34m\u001b[0m\u001b[0m\n\u001b[1;32m      5\u001b[0m \u001b[0mplt\u001b[0m\u001b[0;34m.\u001b[0m\u001b[0mplot\u001b[0m\u001b[0;34m(\u001b[0m\u001b[0mnp\u001b[0m\u001b[0;34m.\u001b[0m\u001b[0marange\u001b[0m\u001b[0;34m(\u001b[0m\u001b[0;36m1\u001b[0m\u001b[0;34m,\u001b[0m\u001b[0mtest_size\u001b[0m\u001b[0;34m+\u001b[0m\u001b[0;36m1\u001b[0m\u001b[0;34m,\u001b[0m\u001b[0;36m1\u001b[0m\u001b[0;34m)\u001b[0m\u001b[0;34m,\u001b[0m \u001b[0mY_test\u001b[0m\u001b[0;34m[\u001b[0m\u001b[0;36m0\u001b[0m\u001b[0;34m,\u001b[0m\u001b[0;34m:\u001b[0m\u001b[0;34m,\u001b[0m\u001b[0;36m0\u001b[0m\u001b[0;34m]\u001b[0m\u001b[0;34m[\u001b[0m\u001b[0;36m0\u001b[0m\u001b[0;34m:\u001b[0m\u001b[0mtest_size\u001b[0m\u001b[0;34m]\u001b[0m\u001b[0;34m,\u001b[0m \u001b[0;34m\"w*\"\u001b[0m\u001b[0;34m,\u001b[0m \u001b[0mmarkersize\u001b[0m\u001b[0;34m=\u001b[0m\u001b[0;36m10\u001b[0m\u001b[0;34m,\u001b[0m \u001b[0mlabel\u001b[0m\u001b[0;34m=\u001b[0m\u001b[0;34m\"target\"\u001b[0m\u001b[0;34m)\u001b[0m\u001b[0;34m\u001b[0m\u001b[0m\n",
      "\u001b[0;31mTypeError\u001b[0m: 'str' object is not callable"
     ]
    }
   ],
   "source": [
    "test_size=60\n",
    "plt.title(\"Testing the model Y\", fontsize=14)\n",
    "plt.plot(np.arange(0,test_size,1), X_test[0,0:test_size,0], \"bo\", markersize=10, label=\"instance\")\n",
    "plt.plot(np.arange(1,test_size+1,1), Y_test[0,:,0][0:test_size], \"w*\", markersize=10, label=\"target\")\n",
    "plt.plot(np.arange(1,test_size+1,1), y_pred[0,:,0][0:test_size], \"r.\", markersize=10, label=\"prediction\")\n",
    "plt.legend(loc=\"upper left\")\n",
    "plt.xlabel(\"Time\")"
   ]
  },
  {
   "cell_type": "code",
   "execution_count": 187,
   "metadata": {
    "collapsed": false
   },
   "outputs": [],
   "source": [
    "def moving_avg_predictor(data_array, windows):\n",
    "    ## return an array which contain averaged values of the past elements depending on the value of the windows\n",
    "    ## the input data array is supposed to be windows + len(new_array)+ windows length\n",
    "    if len(data_array)<windows:\n",
    "        print(\"windows is shorter than training data, using length of training data instead\")\n",
    "        windows = len(data_array)-1\n",
    "    data_array = np.array(data_array)\n",
    "    new_array =[]\n",
    "    for i in range(len(data_array)-windows):\n",
    "        new_array.append(data_array[i:i+windows].mean())\n",
    "    return new_array"
   ]
  },
  {
   "cell_type": "code",
   "execution_count": 188,
   "metadata": {
    "collapsed": false
   },
   "outputs": [
    {
     "name": "stdout",
     "output_type": "stream",
     "text": [
      "pred length is  116\n",
      "actual length is  116\n",
      "pred length is  120\n",
      "actual length is  120\n",
      " moving average MSE:  0.000562016944114\n",
      " RNN  MSE:  1.33579690757\n"
     ]
    }
   ],
   "source": [
    "def mse(pred, actual):\n",
    "    pred = np.array(pred)\n",
    "    print(\"pred length is \", len(pred))\n",
    "    \n",
    "    print(\"actual length is \", len(actual))\n",
    "    actual = np.array(actual)\n",
    "    return np.mean(pred-actual)**2\n",
    "x_input_moving_avg = X_test[0,:,0]\n",
    "windows = 4\n",
    "x_pred_moving_avg = moving_avg_predictor(x_input_moving_avg, windows)\n",
    "x_actual_moving_avg = X_test[0][windows:,0]\n",
    "x_pred_moving_avg = moving_avg_predictor(x_input_moving_avg, windows)\n",
    "moving_avg_mse_x = mse(x_pred_moving_avg, x_actual_moving_avg)\n",
    "rnn_mse_x = mse(y_pred[0][:,0], Y_test[0][:,0])\n",
    "\n",
    "print(\" moving average MSE: \",moving_avg_mse_x)\n",
    "print(\" RNN  MSE: \",rnn_mse_x)\n",
    "\n"
   ]
  },
  {
   "cell_type": "code",
   "execution_count": 217,
   "metadata": {
    "collapsed": false
   },
   "outputs": [
    {
     "data": {
      "text/plain": [
       "<matplotlib.text.Text at 0x1439f2240>"
      ]
     },
     "execution_count": 217,
     "metadata": {},
     "output_type": "execute_result"
    },
    {
     "data": {
      "image/png": "[encoded data removed]",
      "text/plain": [
       "<matplotlib.figure.Figure at 0x143c679e8>"
      ]
     },
     "metadata": {},
     "output_type": "display_data"
    }
   ],
   "source": [
    "\n",
    "plt.plot(range(len(Y_test[1][:,0])),Y_test[1][:,0], color ='b', label =\"Actual\")\n",
    "\n",
    "plt.plot(range(len(X_test[1][:,0])),y_pred[1][:,0], color='r',  label =\"Prediction\")\n",
    "plt.legend(loc=\"upper left\")\n",
    "plt.xlabel(\"Time\")\n",
    "plt.ylabel(\"W-X Value\")"
   ]
  },
  {
   "cell_type": "code",
   "execution_count": 218,
   "metadata": {
    "collapsed": false
   },
   "outputs": [
    {
     "data": {
      "text/plain": [
       "<matplotlib.text.Text at 0x14506d748>"
      ]
     },
     "execution_count": 218,
     "metadata": {},
     "output_type": "execute_result"
    },
    {
     "data": {
      "image/png": "[encoded data removed]",
      "text/plain": [
       "<matplotlib.figure.Figure at 0x1450856d8>"
      ]
     },
     "metadata": {},
     "output_type": "display_data"
    }
   ],
   "source": [
    "\n",
    "\n",
    "plt.plot(range(len(Y_test[1][:,1])),Y_test[1][:,1], color ='b', label =\"Actual\")\n",
    "\n",
    "plt.plot(range(len(X_test[1][:,1])),y_pred[1][:,1], color='r',  label =\"Prediction\")\n",
    "plt.legend(loc=\"upper left\")\n",
    "plt.xlabel(\"Time\")\n",
    "plt.ylabel(\"W-Y Value\")"
   ]
  },
  {
   "cell_type": "code",
   "execution_count": 219,
   "metadata": {
    "collapsed": false
   },
   "outputs": [
    {
     "data": {
      "text/plain": [
       "<matplotlib.text.Text at 0x1451aba20>"
      ]
     },
     "execution_count": 219,
     "metadata": {},
     "output_type": "execute_result"
    },
    {
     "data": {
      "image/png": "[encoded data removed]",
      "text/plain": [
       "<matplotlib.figure.Figure at 0x14517d0b8>"
      ]
     },
     "metadata": {},
     "output_type": "display_data"
    }
   ],
   "source": [
    "\n",
    "plt.plot(range(len(Y_test[1][:,2])),Y_test[1][:,2], color ='b', label =\"Actual\")\n",
    "\n",
    "plt.plot(range(len(X_test[1][:,2])),y_pred[1][:,2], color='r',  label =\"Prediction\")\n",
    "plt.legend(loc=\"upper left\")\n",
    "plt.xlabel(\"Time\")\n",
    "plt.ylabel(\"W-Z Value\")\n"
   ]
  },
  {
   "cell_type": "code",
   "execution_count": 146,
   "metadata": {
    "collapsed": false
   },
   "outputs": [],
   "source": [
    "import random as rd\n",
    "max_ind = train_data.shape[0]\n",
    "def sm_next_batch(batch_size, n_steps):\n",
    "    X = []\n",
    "    Y = []\n",
    "    for i in range(batch_size):\n",
    "        start = rd.randint(0, max_ind-n_steps-1)\n",
    "        ys1 = train_data[start: start+n_steps, 0:3]\n",
    "        ys2 = train_data[start+1: start+n_steps+1,0:3]\n",
    "        X.append(ys1)\n",
    "        Y.append(ys2)\n",
    "    X = np.array(X).reshape(-1, n_steps, 3)\n",
    "    Y = np.array(Y).reshape(-1, n_steps, 3)\n",
    "    \n",
    "    return X, Y \n",
    "   \n",
    "\n",
    "max_test_ind = test_data.shape[0]\n",
    "def sm_test_next_batch(batch_size, n_steps):\n",
    "    X = []\n",
    "    Y = []\n",
    "    for i in range(batch_size):\n",
    "        start = rd.randint(0, max_test_ind-n_steps-1)\n",
    "        ys1 = test_data[start: start+n_steps,0:3]\n",
    "        ys2 = test_data[start+1: start+n_steps+1,0:3]\n",
    "        X.append(ys1)\n",
    "        Y.append(ys2)\n",
    "    X = np.array(X).reshape(-1, n_steps, 3)\n",
    "    Y = np.array(Y).reshape(-1, n_steps, 3)\n",
    "    \n",
    "    return X, Y "
   ]
  },
  {
   "cell_type": "code",
   "execution_count": 147,
   "metadata": {
    "collapsed": false
   },
   "outputs": [],
   "source": [
    "tf.reset_default_graph()\n",
    "\n",
    "n_steps = 120\n",
    "n_inputs = 3\n",
    "n_neurons = 100\n",
    "n_outputs = 3\n",
    "learning_rate = 0.001\n",
    "\n",
    "\n",
    "\n",
    "X = tf.placeholder(tf.float32, [None, n_steps, n_inputs])\n",
    "y = tf.placeholder(tf.float32, [None, n_steps, n_outputs])\n",
    "\n",
    "cell = tf.contrib.rnn.OutputProjectionWrapper(\n",
    "    tf.contrib.rnn.BasicRNNCell(num_units=n_neurons, activation=tf.nn.relu),\n",
    "    output_size=n_outputs)\n",
    "outputs, states = tf.nn.dynamic_rnn(cell, X, dtype=tf.float32)\n",
    "\n",
    "\n",
    "loss = tf.reduce_sum(tf.square(outputs - y))\n",
    "optimizer = tf.train.AdamOptimizer(learning_rate=learning_rate)\n",
    "training_op = optimizer.minimize(loss)\n",
    "\n",
    "init = tf.global_variables_initializer()\n"
   ]
  },
  {
   "cell_type": "code",
   "execution_count": 159,
   "metadata": {
    "collapsed": false
   },
   "outputs": [
    {
     "name": "stdout",
     "output_type": "stream",
     "text": [
      "0 \tMSE: 2.15693e+10\n",
      "100 \tMSE: 1.40225e+08\n",
      "200 \tMSE: 4.5442e+07\n",
      "300 \tMSE: 1.85766e+07\n",
      "400 \tMSE: 1.90384e+07\n",
      "500 \tMSE: 1.08846e+07\n",
      "600 \tMSE: 1.04262e+07\n",
      "700 \tMSE: 1.294e+07\n",
      "800 \tMSE: 1.20852e+07\n",
      "900 \tMSE: 1.14107e+07\n",
      "1000 \tMSE: 7.86204e+06\n",
      "1100 \tMSE: 7.83104e+06\n",
      "1200 \tMSE: 1.10165e+07\n",
      "1300 \tMSE: 9.38026e+06\n",
      "1400 \tMSE: 9.07616e+06\n",
      "1500 \tMSE: 1.15662e+07\n",
      "1600 \tMSE: 1.15806e+07\n",
      "1700 \tMSE: 7.01137e+06\n",
      "1800 \tMSE: 5.94766e+06\n",
      "1900 \tMSE: 8.90227e+06\n",
      "2000 \tMSE: 9.73886e+06\n",
      "2100 \tMSE: 5.40244e+06\n",
      "2200 \tMSE: 8.24847e+06\n",
      "2300 \tMSE: 8.8494e+06\n",
      "2400 \tMSE: 6.97948e+06\n",
      "2500 \tMSE: 8.40573e+06\n",
      "2600 \tMSE: 6.25704e+06\n",
      "2700 \tMSE: 6.82496e+06\n",
      "2800 \tMSE: 7.99297e+06\n",
      "2900 \tMSE: 4.67976e+06\n"
     ]
    }
   ],
   "source": [
    "n_iterations = 3000\n",
    "sm_batch_size = 50\n",
    "sm_n_steps = 120\n",
    "sm_test_n_steps =20\n",
    "\n",
    "with tf.Session() as sess:\n",
    "    init.run()\n",
    "    for iteration in range(n_iterations):\n",
    "        X_batch, y_batch = sm_next_batch(sm_batch_size, sm_n_steps)\n",
    "        sess.run(training_op, feed_dict={X: X_batch, y: y_batch})\n",
    "        if iteration % 100 == 0:\n",
    "            mse = loss.eval(feed_dict={X: X_batch, y: y_batch})\n",
    "            print(iteration, \"\\tMSE:\", mse)\n",
    "    \n",
    "    X_test, Y_test = sm_test_next_batch(10, sm_n_steps)\n",
    "    y_pred = sess.run(outputs, feed_dict={X: X_test})"
   ]
  },
  {
   "cell_type": "code",
   "execution_count": 163,
   "metadata": {
    "collapsed": false
   },
   "outputs": [
    {
     "name": "stdout",
     "output_type": "stream",
     "text": [
      "pred length is  116\n",
      "actual length is  116\n",
      "pred length is  120\n",
      "actual length is  120\n",
      " moving average MSE:  0.00290298008323\n",
      " RNN  MSE:  66.7888849984\n"
     ]
    }
   ],
   "source": [
    "def mse(pred, actual):\n",
    "    pred = np.array(pred)\n",
    "    print(\"pred length is \", len(pred))\n",
    "    \n",
    "    print(\"actual length is \", len(actual))\n",
    "    actual = np.array(actual)\n",
    "    return np.mean(pred-actual)**2\n",
    "x_input_moving_avg = X_test[1,:,0]\n",
    "windows = 4\n",
    "x_pred_moving_avg = moving_avg_predictor(x_input_moving_avg, windows)\n",
    "x_actual_moving_avg = X_test[1][windows:,0]\n",
    "x_pred_moving_avg = moving_avg_predictor(x_input_moving_avg, windows)\n",
    "moving_avg_mse_x = mse(x_pred_moving_avg, x_actual_moving_avg)\n",
    "rnn_mse_x = mse(y_pred[1][:,0], Y_test[1][:,0])\n",
    "\n",
    "print(\" moving average MSE: \",moving_avg_mse_x)\n",
    "print(\" RNN  MSE: \",rnn_mse_x)\n",
    "\n"
   ]
  },
  {
   "cell_type": "code",
   "execution_count": 174,
   "metadata": {
    "collapsed": false
   },
   "outputs": [
    {
     "data": {
      "text/plain": [
       "[<matplotlib.lines.Line2D at 0x140a83be0>]"
      ]
     },
     "execution_count": 174,
     "metadata": {},
     "output_type": "execute_result"
    },
    {
     "data": {
      "image/png": "[encoded data removed]",
      "text/plain": [
       "<matplotlib.figure.Figure at 0x140a83c18>"
      ]
     },
     "metadata": {},
     "output_type": "display_data"
    }
   ],
   "source": [
    "plt.plot(range(len(X_test[5][:,2])),X_test[5][:,2], color ='b')\n",
    "\n",
    "plt.plot(range(len(X_test[5][:,2])),y_pred[5][:,2], color='r')"
   ]
  },
  {
   "cell_type": "code",
   "execution_count": null,
   "metadata": {
    "collapsed": true
   },
   "outputs": [],
   "source": []
  }
 ],
 "metadata": {
  "kernelspec": {
   "display_name": "Python 3",
   "language": "python",
   "name": "python3"
  },
  "language_info": {
   "codemirror_mode": {
    "name": "ipython",
    "version": 3
   },
   "file_extension": ".py",
   "mimetype": "text/x-python",
   "name": "python",
   "nbconvert_exporter": "python",
   "pygments_lexer": "ipython3",
   "version": "3.6.0"
  }
 },
 "nbformat": 4,
 "nbformat_minor": 2
}
