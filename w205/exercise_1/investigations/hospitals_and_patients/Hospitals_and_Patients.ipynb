{
 "metadata": {
  "name": "Hospitals_and_Patients"
 },
 "nbformat": 3,
 "nbformat_minor": 0,
 "worksheets": [
  {
   "cells": [
    {
     "cell_type": "code",
     "collapsed": false,
     "input": "import findspark\nfindspark.init('/data/spark15')\nimport pyspark\nimport pandas\nsc = pyspark.SparkContext(appName=\"excercise_1\")\nfrom pyspark import HiveContext\nhiveContext = HiveContext(sc)",
     "language": "python",
     "metadata": {},
     "outputs": [],
     "prompt_number": 1
    },
    {
     "cell_type": "markdown",
     "metadata": {},
     "source": "This code is to select the average score and total of base score and consistency. The Patient Experience of Care Domain Score is the sum of the HCAHPS Base Score (0 \u2013 80 points) and HCAHPS Consistency Points score (0 \u2013 20 points), thus ranges from 0 to 100 points, \nhttp://www.hcahpsonline.org/files/HCAHPS%20Fact%20Sheet%20May%202012.pdf.\nHere I use 1/avg_score because the for avg score from the readmission measure the lower the better."
    },
    {
     "cell_type": "code",
     "collapsed": false,
     "input": "avg_score_and_survey_df = hiveContext.sql(\"select a.provider_id, 1/avg_score avg_score, HCAHPS_Base_Score +HCAHPS_Consistency_Score Score from SURVEYS_RESPONSES_TRANSFORMED a, (select avg(score) avg_score, provider_id from readmissions_transformed group by provider_id order by provider_id) b where a.provider_id = b.provider_id order by a.provider_id  \" )",
     "language": "python",
     "metadata": {},
     "outputs": [],
     "prompt_number": 2
    },
    {
     "cell_type": "code",
     "collapsed": false,
     "input": "print avg_score_and_survey_df.corr('Score','avg_score')",
     "language": "python",
     "metadata": {},
     "outputs": [
      {
       "output_type": "stream",
       "stream": "stdout",
       "text": "0.343322617626\n"
      }
     ],
     "prompt_number": 5
    },
    {
     "cell_type": "code",
     "collapsed": false,
     "input": "",
     "language": "python",
     "metadata": {},
     "outputs": []
    }
   ],
   "metadata": {}
  }
 ]
}