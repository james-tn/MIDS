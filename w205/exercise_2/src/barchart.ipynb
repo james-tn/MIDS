{
 "cells": [
  {
   "cell_type": "code",
   "execution_count": 24,
   "metadata": {},
   "outputs": [
    {
     "data": {
      "image/png": "[encoded data removed]",
      "text/plain": [
       "<matplotlib.figure.Figure at 0x44d5110>"
      ]
     },
     "metadata": {},
     "output_type": "display_data"
    }
   ],
   "source": [
    "import sys\n",
    "import psycopg2\n",
    "import numpy as np\n",
    "import matplotlib.pyplot as plt\n",
    " \n",
    "\n",
    "conn = psycopg2.connect(database=\"tcount\", user=\"postgres\", password=\"pass\", host=\"localhost\", port=\"5432\")\n",
    "cur = conn.cursor()\n",
    "\n",
    "cur.execute(\"SELECT word, count from tweetwordcount order by count desc limit 20\")\n",
    "records = cur.fetchall()\n",
    "counts = [rec[1] for rec in records]\n",
    "words = [rec[0] for rec in records]\n",
    "\n",
    "conn.commit()\n",
    "\n",
    "conn.close()\n",
    "\n",
    "\n",
    "\n",
    "# create plot\n",
    "index = 2*np.arange(len(words))\n",
    "bar_width = 1.2\n",
    "opacity = 0.8\n",
    "fig, ax = plt.subplots()\n",
    "\n",
    "\n",
    "\n",
    "rects1 = ax.barh(index, counts, bar_width,\n",
    "                 alpha=opacity,\n",
    "                 color='b', tick_label = words)\n",
    "ax.set_xlabel('Count')\n",
    "ax.set_title('Top 20 words by count')\n",
    "\n",
    "\n",
    "plt.show()"
   ]
  },
  {
   "cell_type": "code",
   "execution_count": null,
   "metadata": {
    "collapsed": true
   },
   "outputs": [],
   "source": []
  }
 ],
 "metadata": {
  "kernelspec": {
   "display_name": "Python 2",
   "language": "python",
   "name": "python2"
  },
  "language_info": {
   "codemirror_mode": {
    "name": "ipython",
    "version": 2
   },
   "file_extension": ".py",
   "mimetype": "text/x-python",
   "name": "python",
   "nbconvert_exporter": "python",
   "pygments_lexer": "ipython2",
   "version": "2.7.3"
  }
 },
 "nbformat": 4,
 "nbformat_minor": 2
}
